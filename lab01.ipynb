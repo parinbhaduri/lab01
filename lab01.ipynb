{
 "cells": [
  {
   "cell_type": "markdown",
   "metadata": {},
   "source": [
    "# Lab 1 - Julia Basics\n",
    "**Due**: Monday, 1/30 by 1:00pm."
   ]
  },
  {
   "attachments": {},
   "cell_type": "markdown",
   "metadata": {},
   "source": [
    "Make sure you include your name and ID below for submission. <br>\n",
    "**Name**: Parin Bhaduri <br>\n",
    "**ID**: pbb62"
   ]
  },
  {
   "cell_type": "markdown",
   "metadata": {},
   "source": [
    "## Contents"
   ]
  },
  {
   "cell_type": "markdown",
   "metadata": {},
   "source": [
    "---"
   ]
  },
  {
   "cell_type": "markdown",
   "metadata": {},
   "source": [
    "## Introduction"
   ]
  },
  {
   "cell_type": "markdown",
   "metadata": {},
   "source": [
    "### Julia\n",
    "\n",
    "[Julia](https://julialang.org) is an up-and-coming language, originally developed for scientific programming. While learning a new programming language always has its hiccups, the good news is that if you've programmed in a high-level language such as Python or MATLAB, most Julia concepts should look familiar. This notebook will guide you through the basics of writing Julia code and where to look for help. It was adapted from materials by Patrick Applegate ([Risk Analysis in the Earth Sciences](https://leanpub.com/raes)), [Tony Wong](https://tonyewong.github.io/), and [Antonia Hadjimichael](https://www.hadjimichael.info/)."
   ]
  },
  {
   "cell_type": "markdown",
   "metadata": {},
   "source": [
    "### Jupyter Notebooks\n",
    "\n",
    "Jupyter notebooks integrate text and equations in Markdown with Julia (or Python, or R) code. To do this, Jupyter notebooks consist of two types of \"cells\": code cells and Markdown (text) cells."
   ]
  },
  {
   "cell_type": "markdown",
   "metadata": {},
   "source": [
    "Click once on this section of text. A box will appear around this text (and some areas above/below it) - all of that is within this cell.\n",
    "\n",
    "Markdown is a text markup framework for formatting language that makes things look pretty when viewed across different platforms: web browsers, notebooks, and so forth. Text written in Markdown can also include hyperlinks, LaTeX equations, section headers, and images, among other features (most of [the course website](https://viveks.me/climate-risk-analysis) and the lecture notes were all written in Markdown!). [Here is a basic Markdown cheat sheet](https://www.markdownguide.org/cheat-sheet/).\n",
    "\n",
    "What you are looking at right now is the formatted text after the Markdown is processed. To see the raw Markdown, do one of:\n",
    "- press `Enter` while that cell is selected, or\n",
    "- double-click on that cell.\n",
    "\n",
    "A couple of the features you will see in this Markdown cell:\n",
    "* The `---` command creates a horizontal line. This is also nice for separating sections.\n",
    "* Backticks (`` `...` ``) can be used to format and highlight code, keystrokes, etc.\n",
    "* The `#` sign is used to create a new section header; two `#` signs (`##`) is used to create a new subsection header; `###` creates a subsubsection; more than that and you're just showing off.\n",
    "- You can create a bulleted list by using the asterisk `*` or a dash `-` and a space.\n",
    "- You can create regular text by just typing as usual.\n",
    "- You can create bold-faced text by wrapping it with two asterisks on either side (see the words \"Markdown\" and \"code\" above).\n",
    "- To create a new paragraph, you must include a blank line between the old and new paragraphs.\n",
    "\n",
    "At this point you might be wondering how to turn this cell back into the fully formatted Markdown text instead of the raw Markdown you're probably still looking at. You have a couple of options, depending on your platform, but the most consistent is to type `Shift + Enter` to **execute** the cell (this is also how to run code, but more on that later).\n",
    "\n",
    "Additionally, you will frequently need to create new cells in your Jupyter notebooks. How you do this will depend on how you interact with the notebook, but try to figure this out now."
   ]
  },
  {
   "cell_type": "markdown",
   "metadata": {},
   "source": [
    "One tip is to think carefully about what bits of code should be in the same cell, as you typically only see output from the last command in a cell. For example, compare the following:"
   ]
  },
  {
   "cell_type": "code",
   "execution_count": 1,
   "metadata": {},
   "outputs": [
    {
     "data": {
      "text/plain": [
       "-0.9589242746631385"
      ]
     },
     "execution_count": 1,
     "metadata": {},
     "output_type": "execute_result"
    }
   ],
   "source": [
    "x = 5\n",
    "sin(x)"
   ]
  },
  {
   "cell_type": "markdown",
   "metadata": {},
   "source": [
    "with"
   ]
  },
  {
   "cell_type": "code",
   "execution_count": 2,
   "metadata": {},
   "outputs": [
    {
     "data": {
      "text/plain": [
       "5"
      ]
     },
     "execution_count": 2,
     "metadata": {},
     "output_type": "execute_result"
    }
   ],
   "source": [
    "x = 5"
   ]
  },
  {
   "cell_type": "code",
   "execution_count": 3,
   "metadata": {},
   "outputs": [
    {
     "data": {
      "text/plain": [
       "-0.9589242746631385"
      ]
     },
     "execution_count": 3,
     "metadata": {},
     "output_type": "execute_result"
    }
   ],
   "source": [
    "sin(x)"
   ]
  },
  {
   "cell_type": "markdown",
   "metadata": {},
   "source": [
    "In Julia, you can also suppress the output of a command with a semi-colon:"
   ]
  },
  {
   "cell_type": "code",
   "execution_count": 4,
   "metadata": {},
   "outputs": [],
   "source": [
    "x = 5;"
   ]
  },
  {
   "cell_type": "markdown",
   "metadata": {},
   "source": [
    "which can help if you want to split some code out for clarity or to insert some text prior to it, but don't want to clutter the notebook with its output."
   ]
  },
  {
   "cell_type": "markdown",
   "metadata": {},
   "source": [
    "For code cells, to execute the commands within the cell, we also press `Shift+Enter`."
   ]
  },
  {
   "cell_type": "markdown",
   "metadata": {},
   "source": [
    "Finally, **make sure that you evaluate all of the code cells in order before submitting**. One bad outcome with notebooks occurs when cells are evaluated out of order, so fixed bugs and edits in previous cells do not get a chance to propagate down. You can do this with the `Run All` command in whichever interface you're using to edit your notebook."
   ]
  },
  {
   "cell_type": "markdown",
   "metadata": {},
   "source": [
    "---"
   ]
  },
  {
   "cell_type": "markdown",
   "metadata": {},
   "source": [
    "## Formatting Math\n",
    "\n",
    "It will often be helpful to include nicely-formatted mathematics in a notebook. Markdown accomodates this using LaTeX syntax. A LaTeX cheatsheet is available [on the class website](https://viveks.me/climate-risk-analysis/resources/#latex_syntax), and many other guides exist online. Vivek also has a book on LaTeX that he can lend out if it would be helpful.\n",
    "\n",
    "Below is an example of a formatted equation for a time series $x_t$, with the random noise $\\varepsilon_t$ distributed according to a normal distribution with mean 0 and standard deviation 2."
   ]
  },
  {
   "cell_type": "markdown",
   "metadata": {},
   "source": [
    "\\begin{equation}\n",
    "x_{t+1} = 0.7 x_t + \\varepsilon_t, \\quad \\varepsilon_t \\sim N(0, 2)\n",
    "\\end{equation}"
   ]
  },
  {
   "cell_type": "markdown",
   "metadata": {},
   "source": [
    "---"
   ]
  },
  {
   "cell_type": "markdown",
   "metadata": {},
   "source": [
    "## A Basic Julia Script"
   ]
  },
  {
   "cell_type": "markdown",
   "metadata": {},
   "source": [
    "Let's look at some code which implements the time series model above and plots different realizations, as well as a histogram of the end-time values. We'll break down each component to understand the syntax and how it all fits together."
   ]
  },
  {
   "cell_type": "markdown",
   "metadata": {},
   "source": [
    "### Package Management\n",
    "\n",
    "At the beginning of each Julia script or notebook, you should load the `Pkg` package manager. This allows you to ensure that consistent package values are used, improving reproducibility and reducing the chance that unexpected errors might emerge. We do this with the `import Pkg` command.\n",
    "\n",
    "Basic use of the `Pkg` package manager involves the following commands:\n",
    "- `Pkg.activate(dir)` loads the environment file (`Project.toml`) and sets this as the active environment. Any packages which are added to or removed will impact this environment, not any (including the \"default\" system-wide Julia installation).\n",
    "- `Pkg.instantiate()` createst the environment manifest (`Manifest.toml`) if it does not exist. This stores all of the needed packages, including dependencies, and their installed versions. If any package (or the correct versions) are not installed, this will occur at this stage.\n",
    "- `Pkg.add(\"pkg\")` adds `pkg.jl` to the environment if it is not already there.\n",
    "- `Pkg.remove(\"pkg\")` removes `pkg.jl` from the environment. This is unlikely to be used in this class.\n",
    "- `Pkg.status()` prints out information about the current environment.\n",
    "\n",
    "The only other interesting thing about the below code cell is the use of the `@__DIR__` macro. This references the directory that the file is in, so if `Project.toml` and the `.ipynb` or `.jl` file are in the same directory, this will always load the correct environment (and can be modified if the files are in different subdirectories). Use this instead of hard-coding a path, which may not be the same on different systems."
   ]
  },
  {
   "cell_type": "code",
   "execution_count": 5,
   "metadata": {},
   "outputs": [
    {
     "name": "stderr",
     "output_type": "stream",
     "text": [
      "\u001b[32m\u001b[1m  Activating\u001b[22m\u001b[39m project at `~/Library/CloudStorage/OneDrive-CornellUniversity/Coding-Assignments/BEE Climate Risk Analysis/Labs/lab01`\n"
     ]
    }
   ],
   "source": [
    "# load project environment\n",
    "import Pkg # load the Pkg package manager\n",
    "Pkg.activate(@__DIR__) # activate the environment in the directory of the script file\n",
    "Pkg.instantiate() # make sure all of the needed packages are installed with correct versions"
   ]
  },
  {
   "cell_type": "code",
   "execution_count": 6,
   "metadata": {},
   "outputs": [
    {
     "name": "stdout",
     "output_type": "stream",
     "text": [
      "\u001b[32m\u001b[1m      Status\u001b[22m\u001b[39m `~/Library/CloudStorage/OneDrive-CornellUniversity/Coding-Assignments/BEE Climate Risk Analysis/Labs/lab01/Project.toml`\n",
      " \u001b[90m [31c24e10] \u001b[39mDistributions v0.25.80\n",
      " \u001b[90m [7073ff75] \u001b[39mIJulia v1.24.0\n",
      " \u001b[90m [91a5bcdd] \u001b[39mPlots v1.38.2\n",
      " \u001b[90m [9a3f8284] \u001b[39mRandom\n"
     ]
    }
   ],
   "source": [
    "Pkg.status()"
   ]
  },
  {
   "cell_type": "markdown",
   "metadata": {},
   "source": [
    "To load packages which have been installed in the environment, use the `using` command. Below, we load `Random.jl`, which manages random number generator and `Distributions.jl`, which provides a common interface for interacting with probability distributions.\n",
    "\n",
    "**Note**: A future lab will focus more on `Distributions.jl`; here we're only using it to sample random numbers from a normal distribution, so don't worry too much about what we can do with it."
   ]
  },
  {
   "cell_type": "code",
   "execution_count": 7,
   "metadata": {},
   "outputs": [],
   "source": [
    "# load needed packages\n",
    "using Random # package to manage random number generation, including seeds\n",
    "using Distributions # package for working with probability distributions"
   ]
  },
  {
   "cell_type": "markdown",
   "metadata": {},
   "source": [
    "We also want to load `Plots.jl`, which will let us make plots. Suppose we either hadn't added `Plots.jl` to the environment ahead of time or we didn't know if it was included, and didn't want an error."
   ]
  },
  {
   "cell_type": "code",
   "execution_count": 8,
   "metadata": {},
   "outputs": [],
   "source": [
    "#Pkg.add(\"Plots\") # add Plots.jl to the project if it was not already present\n",
    "using Plots # load Plots package to be able to produce plots"
   ]
  },
  {
   "cell_type": "markdown",
   "metadata": {},
   "source": [
    "There is no downside to `Pkg.add` if you are unsure if a package has been added; it will not throw an error if the package is already present."
   ]
  },
  {
   "cell_type": "markdown",
   "metadata": {},
   "source": [
    "### Setting Seeds"
   ]
  },
  {
   "cell_type": "markdown",
   "metadata": {},
   "source": [
    "When working with random number generation, it is helpful to set a *seed* to produce the same sequence of numbers is produced. This ensures reproducibility and makes debugging easier."
   ]
  },
  {
   "cell_type": "markdown",
   "metadata": {},
   "source": [
    "![XKCD Cartoon 221 about random number generation](https://imgs.xkcd.com/comics/random_number.png) <br>\n",
    "*Credit*: [XKCD #221](https://xkcd.com/221/)"
   ]
  },
  {
   "cell_type": "markdown",
   "metadata": {},
   "source": [
    "In Julia, we use `Random.seed!()` to seed the random number generator. The `!` at the end is important: these are used to denote functions which change (or mutate) their inputs, rather than returning a copy."
   ]
  },
  {
   "cell_type": "code",
   "execution_count": 9,
   "metadata": {},
   "outputs": [
    {
     "data": {
      "text/plain": [
       "TaskLocalRNG()"
      ]
     },
     "execution_count": 9,
     "metadata": {},
     "output_type": "execute_result"
    }
   ],
   "source": [
    "# set seed for repeating random number generation\n",
    "Random.seed!(1)"
   ]
  },
  {
   "cell_type": "markdown",
   "metadata": {},
   "source": [
    "### Writing the Core Function\n",
    "\n",
    "While many problems can be solved by writing a sequence of commands in a script, there are often difficult to reuse and debug. Copying-and-pasting sections of code also drastically increases the probability of bugs, as you may forget to make changes to some of the repeated sections. I *highly* recommend writing as much of your code as possible as functions, and to definitely do so if you're using the same code multiple times. [This is also in the Julia style guide](https://docs.julialang.org/en/v1/manual/style-guide/#Write-functions,-not-just-scripts), particularly as Julia's optimization makes function evaluation run faster than top-level code commands."
   ]
  },
  {
   "cell_type": "markdown",
   "metadata": {},
   "source": [
    "With that in mind, while we could write a `for` loop at top level to produce a realization of our time series, we will instead write a function wrapping the loop evaluation and returning the realizations. This also pre-empts any issues related to variable scope (which are not worth getting into here, but can cause headaches down the road)."
   ]
  },
  {
   "cell_type": "code",
   "execution_count": 10,
   "metadata": {},
   "outputs": [
    {
     "data": {
      "text/plain": [
       "run_time_series (generic function with 1 method)"
      ]
     },
     "execution_count": 10,
     "metadata": {},
     "output_type": "execute_result"
    }
   ],
   "source": [
    "# function to produce N time-series realizations based on the above parameters\n",
    "function run_time_series(N, T, x₀, μ, σ)\n",
    "    # sample noise values from a normal distribution\n",
    "    noise_dist = Normal(μ, σ) # create distribution object\n",
    "    ε = rand(noise_dist, (N, T)) # sample N x T random values from distribution\n",
    "\n",
    "    # preallocate memory for time series outputs\n",
    "    x = zeros(N, T+1) # produce an N x (T+1) matrix of zeros\n",
    "    x[:, 1] .= x₀ # Set the initial value: note that Julia indexing start at 1, not zero!\n",
    "\n",
    "    # loop through time steps and evaluate time series model\n",
    "    for t in 2:T+1\n",
    "        x[:, t] = 0.7 .* x[:, t-1] + ε[:, t-1]\n",
    "    end\n",
    "\n",
    "    # return time series values\n",
    "    return x\n",
    "end"
   ]
  },
  {
   "cell_type": "markdown",
   "metadata": {},
   "source": [
    "One feature of the above code is the occasional decimal `.` in front of several operators, such as in `x[:, 1] .= x₀`. The issue is that a command like `x[:, 1] = x₀` is ambiguous: you might want to set every element of `x[:, 1]` to `x₀`, or you might only be trying to get a single value and have made a mistake. You could make this more clear with a loop, but that adds extra reading and writing complexity to the code. Julia addresses this ambiguity through *broadcasting*, which compactly says that you want to evaluate the command element-wise (\"broadcasting\") over the array. To broadcast a command over an array, put a decimal `.`. For example, a dot product in Julia is given by `sum(x .* y)`, so the multiplication is broadcasted over the input vectors `x` and `y` element-wise, before the resulting vector is summed."
   ]
  },
  {
   "cell_type": "markdown",
   "metadata": {},
   "source": [
    "Also note the use of the `end` keyword to close the `for` and `function` blocks (also `if`-`else`-`elseif` blocks, which we aren't using here). Forgetting `end` is a common source of bugs, so use indentations to your advantage to make it clear if you've `end`ed a block."
   ]
  },
  {
   "cell_type": "markdown",
   "metadata": {},
   "source": [
    "### Setting Parameter Values"
   ]
  },
  {
   "cell_type": "markdown",
   "metadata": {},
   "source": [
    "Next, we need to set some parameter values for our function call. We do this using the `=` operator.\n",
    "\n",
    "One neat thing about Julia is that we can use a variety of subscripts, superscripts, and Greek letters (among other things) as variable names. This is not necessary (writing out `sigma` is just as legible as using the Greek letter `σ`), but may be more compact and more directly translate equations. These characters are obtained with tab-complete: to obtain `σ`, write out `\\sigma` and hit `Tab`. With notebooks, this works easiest in an IDE like VS Code, and works for [any of the characters listed here](https://docs.julialang.org/en/v1/manual/unicode-input/)."
   ]
  },
  {
   "cell_type": "code",
   "execution_count": 11,
   "metadata": {},
   "outputs": [
    {
     "data": {
      "text/plain": [
       "1000"
      ]
     },
     "execution_count": 11,
     "metadata": {},
     "output_type": "execute_result"
    }
   ],
   "source": [
    "# set variable values\n",
    "T = 25 # number of time steps\n",
    "x₀ = 3 # initial value\n",
    "μ = 0 # normal distribution mean\n",
    "σ = 2 # normal distribution standard deviation\n",
    "N = 1000 # number of realizations"
   ]
  },
  {
   "cell_type": "markdown",
   "metadata": {},
   "source": [
    "### Running the Function and Displaying Output"
   ]
  },
  {
   "cell_type": "markdown",
   "metadata": {},
   "source": [
    "Now we can run the function, which will yield $N$ realizations of our time series, each of which is of length $T+1$ (including the initial value)."
   ]
  },
  {
   "cell_type": "code",
   "execution_count": 12,
   "metadata": {},
   "outputs": [
    {
     "data": {
      "text/plain": [
       "1000×26 Matrix{Float64}:\n",
       " 3.0   1.95883     2.27857    2.34684   …  -3.56512    -6.44286   -4.04146\n",
       " 3.0   3.16295     1.60542   -0.840693     -1.03829    -0.108063   0.660182\n",
       " 3.0   0.486295   -2.56737   -2.39103       1.95986     1.46341    1.90135\n",
       " 3.0   7.01398     6.76512    8.20527      -3.10041     3.12248    0.874753\n",
       " 3.0   4.42975    -0.63549   -2.36954       1.62872     1.58746    3.35009\n",
       " 3.0   2.63513     1.15073   -1.92579   …   3.23633     2.575      0.713741\n",
       " 3.0   5.59987     3.22358    1.13338      -3.73825    -4.28901   -4.58845\n",
       " 3.0   0.447958   -1.97949    1.27999       2.03576    -0.284422   1.4426\n",
       " 3.0   0.0144952  -2.58173   -0.773512     -1.54321    -3.02461   -4.12335\n",
       " 3.0   1.44173     1.23578    0.887647     -5.77287    -7.26747   -4.74929\n",
       " 3.0   1.1355     -2.262     -2.99499   …   1.25497     1.44269    2.72767\n",
       " 3.0   4.46449     3.27737    2.13538      -0.0362571   2.11477    4.33677\n",
       " 3.0   3.06138     5.35613    4.43149      -1.40655    -3.13387    2.1071\n",
       " ⋮                                      ⋱                          ⋮\n",
       " 3.0   8.99363     7.22307    6.08951       4.59643     4.90074    3.9279\n",
       " 3.0  -1.74971    -4.50389   -5.4347        0.844115    0.565742  -2.14949\n",
       " 3.0  -1.24633    -0.636704   0.735007  …   0.353867   -1.74585   -3.0766\n",
       " 3.0  -0.578177   -1.99458   -1.74372      -0.418002   -2.09273    0.787097\n",
       " 3.0   4.41298     4.23656    2.26137       0.990839    1.55899    1.46612\n",
       " 3.0  -2.46796    -2.2933    -2.49292       0.807181    1.01289    1.57028\n",
       " 3.0   5.05856     2.57975    3.65467      -0.420053   -1.14803   -5.3935\n",
       " 3.0  -1.04944     0.63642    5.57358   …  -0.137597    1.69935    1.98244\n",
       " 3.0   0.585289    0.511319  -3.87871      -1.33873     0.10522    1.39735\n",
       " 3.0  -0.104376   -3.38017   -1.50078       4.02648     5.79025    2.78508\n",
       " 3.0   2.42066     2.99775   -1.37559       4.15665     3.11323    4.62645\n",
       " 3.0   4.2634     -1.27126   -1.53731      -4.63239    -2.26629   -3.61776"
      ]
     },
     "execution_count": 12,
     "metadata": {},
     "output_type": "execute_result"
    }
   ],
   "source": [
    "x = run_time_series(N, T, x₀, μ, σ)"
   ]
  },
  {
   "cell_type": "markdown",
   "metadata": {},
   "source": [
    "You can also use the `@show` macro to clean up the output and explicitly show the variable name, but don't do this for output that is too large; it may not truncate to fit (as the previous cell does)."
   ]
  },
  {
   "cell_type": "code",
   "execution_count": 13,
   "metadata": {},
   "outputs": [
    {
     "name": "stdout",
     "output_type": "stream",
     "text": [
      "x[1:10, T + 1] = [-4.041464060361107, 0.6601821636270649, 1.9013534842528652, 0.8747526193853039, 3.3500894527592164, 0.7137407209342408, -4.588449860933408, 1.4426032194165082, -4.123348608399533, -4.74928555056034]\n"
     ]
    }
   ],
   "source": [
    "@show x[1:10, T+1]; # the semi-colon here stops double-printing, which is an issue in Jupyter when using @show"
   ]
  },
  {
   "cell_type": "markdown",
   "metadata": {},
   "source": [
    "### Plotting\n",
    "\n",
    "Finally, let's plot our output. We will produce two plots: the first will plot the first 10 realizations as lines, and the second will be a histogram of all the end-period values, with a red vertical line to indicate the mean.\n",
    "\n",
    "We won't spend too much time here on the details of working with `Plots.jl`, but there is an [overview tutorial](https://viveks.me/climate-risk-analysis/tutorials/julia-plots/) on the class website and [official documentation](https://docs.juliaplots.org/stable/). However, the basic usage here is important to understand, so please ask if you're unsure what a particular argument does!"
   ]
  },
  {
   "cell_type": "code",
   "execution_count": 14,
   "metadata": {},
   "outputs": [
    {
     "data": {
      "image/svg+xml": "<?xml version=\"1.0\" encoding=\"utf-8\"?>\n<svg xmlns=\"http://www.w3.org/2000/svg\" xmlns:xlink=\"http://www.w3.org/1999/xlink\" width=\"600\" height=\"400\" viewBox=\"0 0 2400 1600\">\n<defs>\n  <clipPath id=\"clip580\">\n    <rect x=\"0\" y=\"0\" width=\"2400\" height=\"1600\"/>\n  </clipPath>\n</defs>\n<path clip-path=\"url(#clip580)\" d=\"M0 1600 L2400 1600 L2400 0 L0 0  Z\" fill=\"#ffffff\" fill-rule=\"evenodd\" fill-opacity=\"1\"/>\n<defs>\n  <clipPath id=\"clip581\">\n    <rect x=\"480\" y=\"0\" width=\"1681\" height=\"1600\"/>\n  </clipPath>\n</defs>\n<path clip-path=\"url(#clip580)\" d=\"M212.459 1423.18 L2352.76 1423.18 L2352.76 47.2441 L212.459 47.2441  Z\" fill=\"#ffffff\" fill-rule=\"evenodd\" fill-opacity=\"1\"/>\n<defs>\n  <clipPath id=\"clip582\">\n    <rect x=\"212\" y=\"47\" width=\"2141\" height=\"1377\"/>\n  </clipPath>\n</defs>\n<polyline clip-path=\"url(#clip582)\" style=\"stroke:#000000; stroke-linecap:round; stroke-linejoin:round; stroke-width:2; stroke-opacity:0.1; fill:none\" points=\"596.097,1423.18 596.097,47.2441 \"/>\n<polyline clip-path=\"url(#clip582)\" style=\"stroke:#000000; stroke-linecap:round; stroke-linejoin:round; stroke-width:2; stroke-opacity:0.1; fill:none\" points=\"999.927,1423.18 999.927,47.2441 \"/>\n<polyline clip-path=\"url(#clip582)\" style=\"stroke:#000000; stroke-linecap:round; stroke-linejoin:round; stroke-width:2; stroke-opacity:0.1; fill:none\" points=\"1403.76,1423.18 1403.76,47.2441 \"/>\n<polyline clip-path=\"url(#clip582)\" style=\"stroke:#000000; stroke-linecap:round; stroke-linejoin:round; stroke-width:2; stroke-opacity:0.1; fill:none\" points=\"1807.59,1423.18 1807.59,47.2441 \"/>\n<polyline clip-path=\"url(#clip582)\" style=\"stroke:#000000; stroke-linecap:round; stroke-linejoin:round; stroke-width:2; stroke-opacity:0.1; fill:none\" points=\"2211.42,1423.18 2211.42,47.2441 \"/>\n<polyline clip-path=\"url(#clip580)\" style=\"stroke:#000000; stroke-linecap:round; stroke-linejoin:round; stroke-width:4; stroke-opacity:1; fill:none\" points=\"212.459,1423.18 2352.76,1423.18 \"/>\n<polyline clip-path=\"url(#clip580)\" style=\"stroke:#000000; stroke-linecap:round; stroke-linejoin:round; stroke-width:4; stroke-opacity:1; fill:none\" points=\"596.097,1423.18 596.097,1404.28 \"/>\n<polyline clip-path=\"url(#clip580)\" style=\"stroke:#000000; stroke-linecap:round; stroke-linejoin:round; stroke-width:4; stroke-opacity:1; fill:none\" points=\"999.927,1423.18 999.927,1404.28 \"/>\n<polyline clip-path=\"url(#clip580)\" style=\"stroke:#000000; stroke-linecap:round; stroke-linejoin:round; stroke-width:4; stroke-opacity:1; fill:none\" points=\"1403.76,1423.18 1403.76,1404.28 \"/>\n<polyline clip-path=\"url(#clip580)\" style=\"stroke:#000000; stroke-linecap:round; stroke-linejoin:round; stroke-width:4; stroke-opacity:1; fill:none\" points=\"1807.59,1423.18 1807.59,1404.28 \"/>\n<polyline clip-path=\"url(#clip580)\" style=\"stroke:#000000; stroke-linecap:round; stroke-linejoin:round; stroke-width:4; stroke-opacity:1; fill:none\" points=\"2211.42,1423.18 2211.42,1404.28 \"/>\n<path clip-path=\"url(#clip580)\" d=\"M586.375 1451.02 L604.731 1451.02 L604.731 1454.96 L590.657 1454.96 L590.657 1463.43 Q591.676 1463.08 592.694 1462.92 Q593.713 1462.73 594.731 1462.73 Q600.518 1462.73 603.898 1465.9 Q607.278 1469.08 607.278 1474.49 Q607.278 1480.07 603.805 1483.17 Q600.333 1486.25 594.014 1486.25 Q591.838 1486.25 589.569 1485.88 Q587.324 1485.51 584.917 1484.77 L584.917 1480.07 Q587 1481.2 589.222 1481.76 Q591.444 1482.32 593.921 1482.32 Q597.926 1482.32 600.264 1480.21 Q602.602 1478.1 602.602 1474.49 Q602.602 1470.88 600.264 1468.77 Q597.926 1466.67 593.921 1466.67 Q592.046 1466.67 590.171 1467.08 Q588.319 1467.5 586.375 1468.38 L586.375 1451.02 Z\" fill=\"#000000\" fill-rule=\"evenodd\" fill-opacity=\"1\" /><path clip-path=\"url(#clip580)\" d=\"M974.614 1481.64 L982.253 1481.64 L982.253 1455.28 L973.943 1456.95 L973.943 1452.69 L982.207 1451.02 L986.883 1451.02 L986.883 1481.64 L994.522 1481.64 L994.522 1485.58 L974.614 1485.58 L974.614 1481.64 Z\" fill=\"#000000\" fill-rule=\"evenodd\" fill-opacity=\"1\" /><path clip-path=\"url(#clip580)\" d=\"M1013.97 1454.1 Q1010.35 1454.1 1008.53 1457.66 Q1006.72 1461.2 1006.72 1468.33 Q1006.72 1475.44 1008.53 1479.01 Q1010.35 1482.55 1013.97 1482.55 Q1017.6 1482.55 1019.41 1479.01 Q1021.23 1475.44 1021.23 1468.33 Q1021.23 1461.2 1019.41 1457.66 Q1017.6 1454.1 1013.97 1454.1 M1013.97 1450.39 Q1019.78 1450.39 1022.83 1455 Q1025.91 1459.58 1025.91 1468.33 Q1025.91 1477.06 1022.83 1481.67 Q1019.78 1486.25 1013.97 1486.25 Q1008.16 1486.25 1005.08 1481.67 Q1002.02 1477.06 1002.02 1468.33 Q1002.02 1459.58 1005.08 1455 Q1008.16 1450.39 1013.97 1450.39 Z\" fill=\"#000000\" fill-rule=\"evenodd\" fill-opacity=\"1\" /><path clip-path=\"url(#clip580)\" d=\"M1378.94 1481.64 L1386.58 1481.64 L1386.58 1455.28 L1378.27 1456.95 L1378.27 1452.69 L1386.53 1451.02 L1391.21 1451.02 L1391.21 1481.64 L1398.85 1481.64 L1398.85 1485.58 L1378.94 1485.58 L1378.94 1481.64 Z\" fill=\"#000000\" fill-rule=\"evenodd\" fill-opacity=\"1\" /><path clip-path=\"url(#clip580)\" d=\"M1408.34 1451.02 L1426.7 1451.02 L1426.7 1454.96 L1412.62 1454.96 L1412.62 1463.43 Q1413.64 1463.08 1414.66 1462.92 Q1415.68 1462.73 1416.7 1462.73 Q1422.48 1462.73 1425.86 1465.9 Q1429.24 1469.08 1429.24 1474.49 Q1429.24 1480.07 1425.77 1483.17 Q1422.3 1486.25 1415.98 1486.25 Q1413.8 1486.25 1411.53 1485.88 Q1409.29 1485.51 1406.88 1484.77 L1406.88 1480.07 Q1408.96 1481.2 1411.19 1481.76 Q1413.41 1482.32 1415.89 1482.32 Q1419.89 1482.32 1422.23 1480.21 Q1424.57 1478.1 1424.57 1474.49 Q1424.57 1470.88 1422.23 1468.77 Q1419.89 1466.67 1415.89 1466.67 Q1414.01 1466.67 1412.14 1467.08 Q1410.28 1467.5 1408.34 1468.38 L1408.34 1451.02 Z\" fill=\"#000000\" fill-rule=\"evenodd\" fill-opacity=\"1\" /><path clip-path=\"url(#clip580)\" d=\"M1786.36 1481.64 L1802.68 1481.64 L1802.68 1485.58 L1780.73 1485.58 L1780.73 1481.64 Q1783.4 1478.89 1787.98 1474.26 Q1792.59 1469.61 1793.77 1468.27 Q1796.01 1465.74 1796.89 1464.01 Q1797.79 1462.25 1797.79 1460.56 Q1797.79 1457.8 1795.85 1456.07 Q1793.93 1454.33 1790.83 1454.33 Q1788.63 1454.33 1786.17 1455.09 Q1783.74 1455.86 1780.97 1457.41 L1780.97 1452.69 Q1783.79 1451.55 1786.24 1450.97 Q1788.7 1450.39 1790.73 1450.39 Q1796.1 1450.39 1799.3 1453.08 Q1802.49 1455.77 1802.49 1460.26 Q1802.49 1462.39 1801.68 1464.31 Q1800.9 1466.2 1798.79 1468.8 Q1798.21 1469.47 1795.11 1472.69 Q1792.01 1475.88 1786.36 1481.64 Z\" fill=\"#000000\" fill-rule=\"evenodd\" fill-opacity=\"1\" /><path clip-path=\"url(#clip580)\" d=\"M1822.49 1454.1 Q1818.88 1454.1 1817.05 1457.66 Q1815.25 1461.2 1815.25 1468.33 Q1815.25 1475.44 1817.05 1479.01 Q1818.88 1482.55 1822.49 1482.55 Q1826.13 1482.55 1827.93 1479.01 Q1829.76 1475.44 1829.76 1468.33 Q1829.76 1461.2 1827.93 1457.66 Q1826.13 1454.1 1822.49 1454.1 M1822.49 1450.39 Q1828.3 1450.39 1831.36 1455 Q1834.44 1459.58 1834.44 1468.33 Q1834.44 1477.06 1831.36 1481.67 Q1828.3 1486.25 1822.49 1486.25 Q1816.68 1486.25 1813.6 1481.67 Q1810.55 1477.06 1810.55 1468.33 Q1810.55 1459.58 1813.6 1455 Q1816.68 1450.39 1822.49 1450.39 Z\" fill=\"#000000\" fill-rule=\"evenodd\" fill-opacity=\"1\" /><path clip-path=\"url(#clip580)\" d=\"M2190.69 1481.64 L2207.01 1481.64 L2207.01 1485.58 L2185.06 1485.58 L2185.06 1481.64 Q2187.72 1478.89 2192.31 1474.26 Q2196.91 1469.61 2198.09 1468.27 Q2200.34 1465.74 2201.22 1464.01 Q2202.12 1462.25 2202.12 1460.56 Q2202.12 1457.8 2200.18 1456.07 Q2198.26 1454.33 2195.15 1454.33 Q2192.95 1454.33 2190.5 1455.09 Q2188.07 1455.86 2185.29 1457.41 L2185.29 1452.69 Q2188.12 1451.55 2190.57 1450.97 Q2193.02 1450.39 2195.06 1450.39 Q2200.43 1450.39 2203.63 1453.08 Q2206.82 1455.77 2206.82 1460.26 Q2206.82 1462.39 2206.01 1464.31 Q2205.22 1466.2 2203.12 1468.8 Q2202.54 1469.47 2199.44 1472.69 Q2196.33 1475.88 2190.69 1481.64 Z\" fill=\"#000000\" fill-rule=\"evenodd\" fill-opacity=\"1\" /><path clip-path=\"url(#clip580)\" d=\"M2216.87 1451.02 L2235.22 1451.02 L2235.22 1454.96 L2221.15 1454.96 L2221.15 1463.43 Q2222.17 1463.08 2223.19 1462.92 Q2224.2 1462.73 2225.22 1462.73 Q2231.01 1462.73 2234.39 1465.9 Q2237.77 1469.08 2237.77 1474.49 Q2237.77 1480.07 2234.3 1483.17 Q2230.83 1486.25 2224.51 1486.25 Q2222.33 1486.25 2220.06 1485.88 Q2217.82 1485.51 2215.41 1484.77 L2215.41 1480.07 Q2217.49 1481.2 2219.71 1481.76 Q2221.94 1482.32 2224.41 1482.32 Q2228.42 1482.32 2230.76 1480.21 Q2233.09 1478.1 2233.09 1474.49 Q2233.09 1470.88 2230.76 1468.77 Q2228.42 1466.67 2224.41 1466.67 Q2222.54 1466.67 2220.66 1467.08 Q2218.81 1467.5 2216.87 1468.38 L2216.87 1451.02 Z\" fill=\"#000000\" fill-rule=\"evenodd\" fill-opacity=\"1\" /><path clip-path=\"url(#clip580)\" d=\"M1213.24 1568.04 L1195.09 1520.52 L1201.81 1520.52 L1216.87 1560.53 L1231.95 1520.52 L1238.64 1520.52 L1220.53 1568.04 L1213.24 1568.04 Z\" fill=\"#000000\" fill-rule=\"evenodd\" fill-opacity=\"1\" /><path clip-path=\"url(#clip580)\" d=\"M1256.46 1550.12 Q1249.36 1550.12 1246.63 1551.75 Q1243.89 1553.37 1243.89 1557.29 Q1243.89 1560.4 1245.93 1562.25 Q1247.99 1564.07 1251.53 1564.07 Q1256.4 1564.07 1259.32 1560.63 Q1262.28 1557.16 1262.28 1551.43 L1262.28 1550.12 L1256.46 1550.12 M1268.14 1547.71 L1268.14 1568.04 L1262.28 1568.04 L1262.28 1562.63 Q1260.28 1565.88 1257.29 1567.44 Q1254.3 1568.97 1249.97 1568.97 Q1244.49 1568.97 1241.25 1565.91 Q1238.03 1562.82 1238.03 1557.67 Q1238.03 1551.65 1242.04 1548.6 Q1246.08 1545.54 1254.07 1545.54 L1262.28 1545.54 L1262.28 1544.97 Q1262.28 1540.93 1259.61 1538.73 Q1256.97 1536.5 1252.16 1536.5 Q1249.11 1536.5 1246.21 1537.23 Q1243.32 1537.97 1240.64 1539.43 L1240.64 1534.02 Q1243.86 1532.78 1246.88 1532.17 Q1249.9 1531.54 1252.77 1531.54 Q1260.5 1531.54 1264.32 1535.55 Q1268.14 1539.56 1268.14 1547.71 Z\" fill=\"#000000\" fill-rule=\"evenodd\" fill-opacity=\"1\" /><path clip-path=\"url(#clip580)\" d=\"M1280.2 1518.52 L1286.06 1518.52 L1286.06 1568.04 L1280.2 1568.04 L1280.2 1518.52 Z\" fill=\"#000000\" fill-rule=\"evenodd\" fill-opacity=\"1\" /><path clip-path=\"url(#clip580)\" d=\"M1297.71 1553.98 L1297.71 1532.4 L1303.57 1532.4 L1303.57 1553.75 Q1303.57 1558.81 1305.54 1561.36 Q1307.51 1563.87 1311.46 1563.87 Q1316.2 1563.87 1318.94 1560.85 Q1321.71 1557.83 1321.71 1552.61 L1321.71 1532.4 L1327.57 1532.4 L1327.57 1568.04 L1321.71 1568.04 L1321.71 1562.57 Q1319.58 1565.82 1316.74 1567.41 Q1313.94 1568.97 1310.22 1568.97 Q1304.08 1568.97 1300.89 1565.15 Q1297.71 1561.33 1297.71 1553.98 M1312.45 1531.54 L1312.45 1531.54 Z\" fill=\"#000000\" fill-rule=\"evenodd\" fill-opacity=\"1\" /><path clip-path=\"url(#clip580)\" d=\"M1370.12 1548.76 L1370.12 1551.62 L1343.19 1551.62 Q1343.57 1557.67 1346.82 1560.85 Q1350.1 1564 1355.92 1564 Q1359.3 1564 1362.45 1563.17 Q1365.63 1562.35 1368.75 1560.69 L1368.75 1566.23 Q1365.6 1567.57 1362.29 1568.27 Q1358.98 1568.97 1355.57 1568.97 Q1347.04 1568.97 1342.05 1564 Q1337.08 1559.04 1337.08 1550.57 Q1337.08 1541.82 1341.79 1536.69 Q1346.54 1531.54 1354.56 1531.54 Q1361.75 1531.54 1365.92 1536.18 Q1370.12 1540.8 1370.12 1548.76 M1364.26 1547.04 Q1364.2 1542.23 1361.56 1539.37 Q1358.95 1536.5 1354.62 1536.5 Q1349.72 1536.5 1346.76 1539.27 Q1343.83 1542.04 1343.38 1547.07 L1364.26 1547.04 Z\" fill=\"#000000\" fill-rule=\"evenodd\" fill-opacity=\"1\" /><polyline clip-path=\"url(#clip582)\" style=\"stroke:#000000; stroke-linecap:round; stroke-linejoin:round; stroke-width:2; stroke-opacity:0.1; fill:none\" points=\"212.459,1281.88 2352.76,1281.88 \"/>\n<polyline clip-path=\"url(#clip582)\" style=\"stroke:#000000; stroke-linecap:round; stroke-linejoin:round; stroke-width:2; stroke-opacity:0.1; fill:none\" points=\"212.459,1120.36 2352.76,1120.36 \"/>\n<polyline clip-path=\"url(#clip582)\" style=\"stroke:#000000; stroke-linecap:round; stroke-linejoin:round; stroke-width:2; stroke-opacity:0.1; fill:none\" points=\"212.459,958.839 2352.76,958.839 \"/>\n<polyline clip-path=\"url(#clip582)\" style=\"stroke:#000000; stroke-linecap:round; stroke-linejoin:round; stroke-width:2; stroke-opacity:0.1; fill:none\" points=\"212.459,797.32 2352.76,797.32 \"/>\n<polyline clip-path=\"url(#clip582)\" style=\"stroke:#000000; stroke-linecap:round; stroke-linejoin:round; stroke-width:2; stroke-opacity:0.1; fill:none\" points=\"212.459,635.8 2352.76,635.8 \"/>\n<polyline clip-path=\"url(#clip582)\" style=\"stroke:#000000; stroke-linecap:round; stroke-linejoin:round; stroke-width:2; stroke-opacity:0.1; fill:none\" points=\"212.459,474.281 2352.76,474.281 \"/>\n<polyline clip-path=\"url(#clip582)\" style=\"stroke:#000000; stroke-linecap:round; stroke-linejoin:round; stroke-width:2; stroke-opacity:0.1; fill:none\" points=\"212.459,312.761 2352.76,312.761 \"/>\n<polyline clip-path=\"url(#clip582)\" style=\"stroke:#000000; stroke-linecap:round; stroke-linejoin:round; stroke-width:2; stroke-opacity:0.1; fill:none\" points=\"212.459,151.242 2352.76,151.242 \"/>\n<polyline clip-path=\"url(#clip580)\" style=\"stroke:#000000; stroke-linecap:round; stroke-linejoin:round; stroke-width:4; stroke-opacity:1; fill:none\" points=\"212.459,1423.18 212.459,47.2441 \"/>\n<polyline clip-path=\"url(#clip580)\" style=\"stroke:#000000; stroke-linecap:round; stroke-linejoin:round; stroke-width:4; stroke-opacity:1; fill:none\" points=\"212.459,1281.88 231.357,1281.88 \"/>\n<polyline clip-path=\"url(#clip580)\" style=\"stroke:#000000; stroke-linecap:round; stroke-linejoin:round; stroke-width:4; stroke-opacity:1; fill:none\" points=\"212.459,1120.36 231.357,1120.36 \"/>\n<polyline clip-path=\"url(#clip580)\" style=\"stroke:#000000; stroke-linecap:round; stroke-linejoin:round; stroke-width:4; stroke-opacity:1; fill:none\" points=\"212.459,958.839 231.357,958.839 \"/>\n<polyline clip-path=\"url(#clip580)\" style=\"stroke:#000000; stroke-linecap:round; stroke-linejoin:round; stroke-width:4; stroke-opacity:1; fill:none\" points=\"212.459,797.32 231.357,797.32 \"/>\n<polyline clip-path=\"url(#clip580)\" style=\"stroke:#000000; stroke-linecap:round; stroke-linejoin:round; stroke-width:4; stroke-opacity:1; fill:none\" points=\"212.459,635.8 231.357,635.8 \"/>\n<polyline clip-path=\"url(#clip580)\" style=\"stroke:#000000; stroke-linecap:round; stroke-linejoin:round; stroke-width:4; stroke-opacity:1; fill:none\" points=\"212.459,474.281 231.357,474.281 \"/>\n<polyline clip-path=\"url(#clip580)\" style=\"stroke:#000000; stroke-linecap:round; stroke-linejoin:round; stroke-width:4; stroke-opacity:1; fill:none\" points=\"212.459,312.761 231.357,312.761 \"/>\n<polyline clip-path=\"url(#clip580)\" style=\"stroke:#000000; stroke-linecap:round; stroke-linejoin:round; stroke-width:4; stroke-opacity:1; fill:none\" points=\"212.459,151.242 231.357,151.242 \"/>\n<path clip-path=\"url(#clip580)\" d=\"M114.584 1282.33 L144.26 1282.33 L144.26 1286.26 L114.584 1286.26 L114.584 1282.33 Z\" fill=\"#000000\" fill-rule=\"evenodd\" fill-opacity=\"1\" /><path clip-path=\"url(#clip580)\" d=\"M164.931 1280.01 Q161.783 1280.01 159.931 1282.17 Q158.103 1284.32 158.103 1288.07 Q158.103 1291.8 159.931 1293.97 Q161.783 1296.13 164.931 1296.13 Q168.079 1296.13 169.908 1293.97 Q171.76 1291.8 171.76 1288.07 Q171.76 1284.32 169.908 1282.17 Q168.079 1280.01 164.931 1280.01 M174.214 1265.36 L174.214 1269.62 Q172.454 1268.79 170.649 1268.35 Q168.866 1267.91 167.107 1267.91 Q162.477 1267.91 160.024 1271.03 Q157.593 1274.16 157.246 1280.48 Q158.612 1278.46 160.672 1277.4 Q162.732 1276.31 165.209 1276.31 Q170.417 1276.31 173.427 1279.48 Q176.459 1282.63 176.459 1288.07 Q176.459 1293.39 173.311 1296.61 Q170.163 1299.83 164.931 1299.83 Q158.936 1299.83 155.765 1295.25 Q152.593 1290.64 152.593 1281.91 Q152.593 1273.72 156.482 1268.86 Q160.371 1263.97 166.922 1263.97 Q168.681 1263.97 170.464 1264.32 Q172.269 1264.67 174.214 1265.36 Z\" fill=\"#000000\" fill-rule=\"evenodd\" fill-opacity=\"1\" /><path clip-path=\"url(#clip580)\" d=\"M114.26 1120.81 L143.936 1120.81 L143.936 1124.75 L114.26 1124.75 L114.26 1120.81 Z\" fill=\"#000000\" fill-rule=\"evenodd\" fill-opacity=\"1\" /><path clip-path=\"url(#clip580)\" d=\"M166.876 1107.15 L155.07 1125.6 L166.876 1125.6 L166.876 1107.15 M165.649 1103.08 L171.528 1103.08 L171.528 1125.6 L176.459 1125.6 L176.459 1129.49 L171.528 1129.49 L171.528 1137.64 L166.876 1137.64 L166.876 1129.49 L151.274 1129.49 L151.274 1124.98 L165.649 1103.08 Z\" fill=\"#000000\" fill-rule=\"evenodd\" fill-opacity=\"1\" /><path clip-path=\"url(#clip580)\" d=\"M116.343 959.29 L146.019 959.29 L146.019 963.226 L116.343 963.226 L116.343 959.29 Z\" fill=\"#000000\" fill-rule=\"evenodd\" fill-opacity=\"1\" /><path clip-path=\"url(#clip580)\" d=\"M160.14 972.184 L176.459 972.184 L176.459 976.119 L154.515 976.119 L154.515 972.184 Q157.177 969.429 161.76 964.8 Q166.366 960.147 167.547 958.804 Q169.792 956.281 170.672 954.545 Q171.575 952.786 171.575 951.096 Q171.575 948.341 169.63 946.605 Q167.709 944.869 164.607 944.869 Q162.408 944.869 159.954 945.633 Q157.524 946.397 154.746 947.948 L154.746 943.226 Q157.57 942.091 160.024 941.513 Q162.477 940.934 164.515 940.934 Q169.885 940.934 173.079 943.619 Q176.274 946.304 176.274 950.795 Q176.274 952.925 175.464 954.846 Q174.677 956.744 172.57 959.337 Q171.991 960.008 168.889 963.226 Q165.788 966.42 160.14 972.184 Z\" fill=\"#000000\" fill-rule=\"evenodd\" fill-opacity=\"1\" /><path clip-path=\"url(#clip580)\" d=\"M164.515 783.118 Q160.903 783.118 159.075 786.683 Q157.269 790.225 157.269 797.354 Q157.269 804.461 159.075 808.026 Q160.903 811.567 164.515 811.567 Q168.149 811.567 169.954 808.026 Q171.783 804.461 171.783 797.354 Q171.783 790.225 169.954 786.683 Q168.149 783.118 164.515 783.118 M164.515 779.415 Q170.325 779.415 173.38 784.021 Q176.459 788.604 176.459 797.354 Q176.459 806.081 173.38 810.688 Q170.325 815.271 164.515 815.271 Q158.704 815.271 155.626 810.688 Q152.57 806.081 152.57 797.354 Q152.57 788.604 155.626 784.021 Q158.704 779.415 164.515 779.415 Z\" fill=\"#000000\" fill-rule=\"evenodd\" fill-opacity=\"1\" /><path clip-path=\"url(#clip580)\" d=\"M160.14 649.145 L176.459 649.145 L176.459 653.08 L154.515 653.08 L154.515 649.145 Q157.177 646.39 161.76 641.761 Q166.366 637.108 167.547 635.765 Q169.792 633.242 170.672 631.506 Q171.575 629.747 171.575 628.057 Q171.575 625.303 169.63 623.566 Q167.709 621.83 164.607 621.83 Q162.408 621.83 159.954 622.594 Q157.524 623.358 154.746 624.909 L154.746 620.187 Q157.57 619.053 160.024 618.474 Q162.477 617.895 164.515 617.895 Q169.885 617.895 173.079 620.58 Q176.274 623.265 176.274 627.756 Q176.274 629.886 175.464 631.807 Q174.677 633.705 172.57 636.298 Q171.991 636.969 168.889 640.187 Q165.788 643.381 160.14 649.145 Z\" fill=\"#000000\" fill-rule=\"evenodd\" fill-opacity=\"1\" /><path clip-path=\"url(#clip580)\" d=\"M166.876 461.075 L155.07 479.524 L166.876 479.524 L166.876 461.075 M165.649 457.001 L171.528 457.001 L171.528 479.524 L176.459 479.524 L176.459 483.413 L171.528 483.413 L171.528 491.561 L166.876 491.561 L166.876 483.413 L151.274 483.413 L151.274 478.899 L165.649 457.001 Z\" fill=\"#000000\" fill-rule=\"evenodd\" fill-opacity=\"1\" /><path clip-path=\"url(#clip580)\" d=\"M164.931 310.898 Q161.783 310.898 159.931 313.051 Q158.103 315.203 158.103 318.953 Q158.103 322.68 159.931 324.856 Q161.783 327.009 164.931 327.009 Q168.079 327.009 169.908 324.856 Q171.76 322.68 171.76 318.953 Q171.76 315.203 169.908 313.051 Q168.079 310.898 164.931 310.898 M174.214 296.245 L174.214 300.504 Q172.454 299.671 170.649 299.231 Q168.866 298.791 167.107 298.791 Q162.477 298.791 160.024 301.916 Q157.593 305.041 157.246 311.361 Q158.612 309.347 160.672 308.282 Q162.732 307.194 165.209 307.194 Q170.417 307.194 173.427 310.365 Q176.459 313.514 176.459 318.953 Q176.459 324.277 173.311 327.495 Q170.163 330.713 164.931 330.713 Q158.936 330.713 155.765 326.129 Q152.593 321.523 152.593 312.796 Q152.593 304.602 156.482 299.74 Q160.371 294.856 166.922 294.856 Q168.681 294.856 170.464 295.203 Q172.269 295.551 174.214 296.245 Z\" fill=\"#000000\" fill-rule=\"evenodd\" fill-opacity=\"1\" /><path clip-path=\"url(#clip580)\" d=\"M164.607 152.11 Q161.274 152.11 159.353 153.892 Q157.454 155.675 157.454 158.8 Q157.454 161.925 159.353 163.707 Q161.274 165.489 164.607 165.489 Q167.94 165.489 169.862 163.707 Q171.783 161.901 171.783 158.8 Q171.783 155.675 169.862 153.892 Q167.964 152.11 164.607 152.11 M159.931 150.119 Q156.922 149.378 155.232 147.318 Q153.566 145.258 153.566 142.295 Q153.566 138.152 156.505 135.744 Q159.468 133.337 164.607 133.337 Q169.769 133.337 172.709 135.744 Q175.649 138.152 175.649 142.295 Q175.649 145.258 173.959 147.318 Q172.292 149.378 169.306 150.119 Q172.686 150.906 174.561 153.198 Q176.459 155.489 176.459 158.8 Q176.459 163.823 173.38 166.508 Q170.325 169.193 164.607 169.193 Q158.89 169.193 155.811 166.508 Q152.755 163.823 152.755 158.8 Q152.755 155.489 154.653 153.198 Q156.552 150.906 159.931 150.119 M158.218 142.735 Q158.218 145.42 159.885 146.925 Q161.575 148.429 164.607 148.429 Q167.616 148.429 169.306 146.925 Q171.019 145.42 171.019 142.735 Q171.019 140.05 169.306 138.545 Q167.616 137.04 164.607 137.04 Q161.575 137.04 159.885 138.545 Q158.218 140.05 158.218 142.735 Z\" fill=\"#000000\" fill-rule=\"evenodd\" fill-opacity=\"1\" /><path clip-path=\"url(#clip580)\" d=\"M16.4842 813.335 L16.4842 773.136 L21.895 773.136 L21.895 790.005 L64.0042 790.005 L64.0042 796.466 L21.895 796.466 L21.895 813.335 L16.4842 813.335 Z\" fill=\"#000000\" fill-rule=\"evenodd\" fill-opacity=\"1\" /><path clip-path=\"url(#clip580)\" d=\"M28.3562 769.189 L28.3562 763.332 L64.0042 763.332 L64.0042 769.189 L28.3562 769.189 M14.479 769.189 L14.479 763.332 L21.895 763.332 L21.895 769.189 L14.479 769.189 Z\" fill=\"#000000\" fill-rule=\"evenodd\" fill-opacity=\"1\" /><path clip-path=\"url(#clip580)\" d=\"M35.1993 723.324 Q31.2526 721.128 29.3747 718.072 Q27.4968 715.017 27.4968 710.879 Q27.4968 705.309 31.4117 702.285 Q35.2948 699.262 42.4881 699.262 L64.0042 699.262 L64.0042 705.15 L42.679 705.15 Q37.5546 705.15 35.072 706.964 Q32.5894 708.778 32.5894 712.502 Q32.5894 717.054 35.6131 719.696 Q38.6368 722.337 43.8567 722.337 L64.0042 722.337 L64.0042 728.226 L42.679 728.226 Q37.5228 728.226 35.072 730.04 Q32.5894 731.854 32.5894 735.642 Q32.5894 740.129 35.6449 742.771 Q38.6686 745.413 43.8567 745.413 L64.0042 745.413 L64.0042 751.301 L28.3562 751.301 L28.3562 745.413 L33.8944 745.413 Q30.616 743.408 29.0564 740.607 Q27.4968 737.806 27.4968 733.955 Q27.4968 730.072 29.4702 727.366 Q31.4436 724.629 35.1993 723.324 Z\" fill=\"#000000\" fill-rule=\"evenodd\" fill-opacity=\"1\" /><path clip-path=\"url(#clip580)\" d=\"M44.7161 657.089 L47.5806 657.089 L47.5806 684.016 Q53.6281 683.634 56.8109 680.387 Q59.9619 677.109 59.9619 671.284 Q59.9619 667.911 59.1344 664.76 Q58.3069 661.577 56.6518 658.457 L62.1899 658.457 Q63.5267 661.608 64.227 664.919 Q64.9272 668.229 64.9272 671.634 Q64.9272 680.165 59.9619 685.162 Q54.9967 690.127 46.5303 690.127 Q37.7774 690.127 32.6531 685.416 Q27.4968 680.674 27.4968 672.653 Q27.4968 665.46 32.1438 661.29 Q36.7589 657.089 44.7161 657.089 M42.9973 662.945 Q38.1912 663.009 35.3266 665.651 Q32.4621 668.261 32.4621 672.589 Q32.4621 677.491 35.2312 680.451 Q38.0002 683.379 43.0292 683.825 L42.9973 662.945 Z\" fill=\"#000000\" fill-rule=\"evenodd\" fill-opacity=\"1\" /><polyline clip-path=\"url(#clip582)\" style=\"stroke:#808080; stroke-linecap:round; stroke-linejoin:round; stroke-width:4; stroke-opacity:1; fill:none\" points=\"273.033,555.04 353.799,639.125 434.565,613.303 515.331,607.789 596.097,552.758 676.863,682.868 757.629,612.964 838.395,793.857 919.161,793.348 999.927,911.175 1080.69,793.483 1161.46,905.271 1242.22,1013.7 1322.99,1134.74 1403.76,1045.88 1484.52,791.058 1565.29,979.656 1646.05,903.076 1726.82,680.572 1807.59,474.107 1888.35,644.557 1969.12,858.154 2049.88,1045.3 2130.65,1085.24 2211.42,1317.64 2292.18,1123.71 \"/>\n<polyline clip-path=\"url(#clip582)\" style=\"stroke:#808080; stroke-linecap:round; stroke-linejoin:round; stroke-width:4; stroke-opacity:1; fill:none\" points=\"273.033,555.04 353.799,541.88 434.565,667.666 515.331,865.214 596.097,624.498 676.863,514.358 757.629,786.274 838.395,779.568 919.161,759.346 999.927,581.167 1080.69,838.779 1161.46,758.139 1242.22,932.117 1322.99,836.759 1403.76,973.579 1484.52,946.193 1565.29,985.541 1646.05,715.391 1726.82,554.767 1807.59,557.133 1888.35,639.003 1969.12,862.107 2049.88,1061.06 2130.65,881.171 2211.42,806.047 2292.18,744.003 \"/>\n<polyline clip-path=\"url(#clip582)\" style=\"stroke:#808080; stroke-linecap:round; stroke-linejoin:round; stroke-width:4; stroke-opacity:1; fill:none\" points=\"273.033,555.04 353.799,758.047 434.565,1004.66 515.331,990.418 596.097,849.448 676.863,680.357 757.629,905.386 838.395,795.962 919.161,699.3 999.927,799.162 1080.69,946.721 1161.46,1066.27 1242.22,1121.01 1322.99,1085.56 1403.76,780.842 1484.52,880.581 1565.29,759.675 1646.05,982.802 1726.82,904.312 1807.59,440.666 1888.35,308.235 1969.12,602.044 2049.88,568.959 2130.65,639.042 2211.42,679.135 2292.18,643.767 \"/>\n<polyline clip-path=\"url(#clip582)\" style=\"stroke:#808080; stroke-linecap:round; stroke-linejoin:round; stroke-width:4; stroke-opacity:1; fill:none\" points=\"273.033,555.04 353.799,230.872 434.565,250.97 515.331,134.664 596.097,303.71 676.863,269.041 757.629,86.1857 838.395,361.23 919.161,518.072 999.927,580.475 1080.69,364.213 1161.46,461.146 1242.22,723.442 1322.99,893.436 1403.76,895 1484.52,1201.39 1565.29,1117.57 1646.05,1312.78 1726.82,1069.91 1807.59,1126.62 1888.35,1016.62 1969.12,980.605 2049.88,1039.44 2130.65,1047.71 2211.42,545.149 2292.18,726.675 \"/>\n<polyline clip-path=\"url(#clip582)\" style=\"stroke:#808080; stroke-linecap:round; stroke-linejoin:round; stroke-width:4; stroke-opacity:1; fill:none\" points=\"273.033,555.04 353.799,439.574 434.565,848.642 515.331,988.683 596.097,930.362 676.863,889.929 757.629,774.611 838.395,728.946 919.161,863.939 999.927,594.403 1080.69,172.181 1161.46,377.377 1242.22,928.141 1322.99,1088.19 1403.76,1176.96 1484.52,1030.99 1565.29,1206.57 1646.05,1110.56 1726.82,1055.96 1807.59,953.944 1888.35,956.287 1969.12,867.117 2049.88,880.831 2130.65,665.785 2211.42,669.117 2292.18,526.767 \"/>\n<polyline clip-path=\"url(#clip582)\" style=\"stroke:#808080; stroke-linecap:round; stroke-linejoin:round; stroke-width:4; stroke-opacity:1; fill:none\" points=\"273.033,555.04 353.799,584.507 434.565,704.387 515.331,952.846 596.097,882.571 676.863,909.577 757.629,844.492 838.395,847.498 919.161,1080.37 999.927,806.004 1080.69,996.889 1161.46,1174.02 1242.22,1286.38 1322.99,1042.16 1403.76,1135.79 1484.52,881.172 1565.29,1046.01 1646.05,809.999 1726.82,447.411 1807.59,748.602 1888.35,370.56 1969.12,449.01 2049.88,442.759 2130.65,535.954 2211.42,589.363 2292.18,739.678 \"/>\n<polyline clip-path=\"url(#clip582)\" style=\"stroke:#808080; stroke-linecap:round; stroke-linejoin:round; stroke-width:4; stroke-opacity:1; fill:none\" points=\"273.033,555.04 353.799,345.076 434.565,536.984 515.331,705.788 596.097,996.522 676.863,640.464 757.629,626.226 838.395,1014.51 919.161,930.128 999.927,961.948 1080.69,728.204 1161.46,1112.3 1242.22,1001.24 1322.99,882.813 1403.76,698.132 1484.52,681.074 1565.29,657.316 1646.05,770.16 1726.82,823.354 1807.59,1117.3 1888.35,951.288 1969.12,787.773 2049.88,777.425 2130.65,1099.22 2211.42,1143.7 2292.18,1167.88 \"/>\n<polyline clip-path=\"url(#clip582)\" style=\"stroke:#808080; stroke-linecap:round; stroke-linejoin:round; stroke-width:4; stroke-opacity:1; fill:none\" points=\"273.033,555.04 353.799,761.143 434.565,957.183 515.331,693.948 596.097,746.29 676.863,445.722 757.629,340.225 838.395,319.691 919.161,769.933 999.927,828.373 1080.69,934.207 1161.46,988.681 1242.22,1074.05 1322.99,838.643 1403.76,715.619 1484.52,832.431 1565.29,843.882 1646.05,731.577 1726.82,915.14 1807.59,924.444 1888.35,702.638 1969.12,632.916 2049.88,660.459 2130.65,632.913 2211.42,820.289 2292.18,680.815 \"/>\n<polyline clip-path=\"url(#clip582)\" style=\"stroke:#808080; stroke-linecap:round; stroke-linejoin:round; stroke-width:4; stroke-opacity:1; fill:none\" points=\"273.033,555.04 353.799,796.149 434.565,1005.82 515.331,859.788 596.097,664.989 676.863,538.076 757.629,550.038 838.395,777.84 919.161,910.269 999.927,1096.52 1080.69,755.308 1161.46,745.951 1242.22,938.075 1322.99,1060.3 1403.76,885.891 1484.52,590.907 1565.29,405.677 1646.05,822.054 1726.82,1008.57 1807.59,928.832 1888.35,917.957 1969.12,818.399 2049.88,950.34 2130.65,921.949 2211.42,1041.59 2292.18,1130.32 \"/>\n<polyline clip-path=\"url(#clip582)\" style=\"stroke:#808080; stroke-linecap:round; stroke-linejoin:round; stroke-width:4; stroke-opacity:1; fill:none\" points=\"273.033,555.04 353.799,680.886 434.565,697.519 515.331,725.633 596.097,591.362 676.863,658.692 757.629,702.242 838.395,676.384 919.161,812.809 999.927,684.881 1080.69,841.014 1161.46,703.531 1242.22,778.144 1322.99,773.871 1403.76,895.984 1484.52,1086.76 1565.29,722.512 1646.05,756.508 1726.82,868.465 1807.59,899.826 1888.35,1242 1969.12,1044.78 2049.88,1252.31 2130.65,1263.54 2211.42,1384.24 2292.18,1180.87 \"/>\n</svg>\n"
     },
     "execution_count": 14,
     "metadata": {},
     "output_type": "execute_result"
    }
   ],
   "source": [
    "plot(x[1:10, :]', ylabel = \"Time\", xlabel = \"Value\", legend=false, color=:grey) # make line plot of first 10 realizations with grey lines and no legend; need to transpose array x as Plots wants to treat each column as its own series"
   ]
  },
  {
   "cell_type": "code",
   "execution_count": 15,
   "metadata": {},
   "outputs": [
    {
     "data": {
      "image/svg+xml": "<?xml version=\"1.0\" encoding=\"utf-8\"?>\n<svg xmlns=\"http://www.w3.org/2000/svg\" xmlns:xlink=\"http://www.w3.org/1999/xlink\" width=\"600\" height=\"400\" viewBox=\"0 0 2400 1600\">\n<defs>\n  <clipPath id=\"clip620\">\n    <rect x=\"0\" y=\"0\" width=\"2400\" height=\"1600\"/>\n  </clipPath>\n</defs>\n<path clip-path=\"url(#clip620)\" d=\"M0 1600 L2400 1600 L2400 0 L0 0  Z\" fill=\"#ffffff\" fill-rule=\"evenodd\" fill-opacity=\"1\"/>\n<defs>\n  <clipPath id=\"clip621\">\n    <rect x=\"480\" y=\"0\" width=\"1681\" height=\"1600\"/>\n  </clipPath>\n</defs>\n<path clip-path=\"url(#clip620)\" d=\"M232.389 1423.18 L2352.76 1423.18 L2352.76 47.2441 L232.389 47.2441  Z\" fill=\"#ffffff\" fill-rule=\"evenodd\" fill-opacity=\"1\"/>\n<defs>\n  <clipPath id=\"clip622\">\n    <rect x=\"232\" y=\"47\" width=\"2121\" height=\"1377\"/>\n  </clipPath>\n</defs>\n<polyline clip-path=\"url(#clip622)\" style=\"stroke:#000000; stroke-linecap:round; stroke-linejoin:round; stroke-width:2; stroke-opacity:0.1; fill:none\" points=\"254.657,1423.18 254.657,47.2441 \"/>\n<polyline clip-path=\"url(#clip622)\" style=\"stroke:#000000; stroke-linecap:round; stroke-linejoin:round; stroke-width:2; stroke-opacity:0.1; fill:none\" points=\"726.437,1423.18 726.437,47.2441 \"/>\n<polyline clip-path=\"url(#clip622)\" style=\"stroke:#000000; stroke-linecap:round; stroke-linejoin:round; stroke-width:2; stroke-opacity:0.1; fill:none\" points=\"1198.22,1423.18 1198.22,47.2441 \"/>\n<polyline clip-path=\"url(#clip622)\" style=\"stroke:#000000; stroke-linecap:round; stroke-linejoin:round; stroke-width:2; stroke-opacity:0.1; fill:none\" points=\"1670,1423.18 1670,47.2441 \"/>\n<polyline clip-path=\"url(#clip622)\" style=\"stroke:#000000; stroke-linecap:round; stroke-linejoin:round; stroke-width:2; stroke-opacity:0.1; fill:none\" points=\"2141.78,1423.18 2141.78,47.2441 \"/>\n<polyline clip-path=\"url(#clip620)\" style=\"stroke:#000000; stroke-linecap:round; stroke-linejoin:round; stroke-width:4; stroke-opacity:1; fill:none\" points=\"232.389,1423.18 2352.76,1423.18 \"/>\n<polyline clip-path=\"url(#clip620)\" style=\"stroke:#000000; stroke-linecap:round; stroke-linejoin:round; stroke-width:4; stroke-opacity:1; fill:none\" points=\"254.657,1423.18 254.657,1404.28 \"/>\n<polyline clip-path=\"url(#clip620)\" style=\"stroke:#000000; stroke-linecap:round; stroke-linejoin:round; stroke-width:4; stroke-opacity:1; fill:none\" points=\"726.437,1423.18 726.437,1404.28 \"/>\n<polyline clip-path=\"url(#clip620)\" style=\"stroke:#000000; stroke-linecap:round; stroke-linejoin:round; stroke-width:4; stroke-opacity:1; fill:none\" points=\"1198.22,1423.18 1198.22,1404.28 \"/>\n<polyline clip-path=\"url(#clip620)\" style=\"stroke:#000000; stroke-linecap:round; stroke-linejoin:round; stroke-width:4; stroke-opacity:1; fill:none\" points=\"1670,1423.18 1670,1404.28 \"/>\n<polyline clip-path=\"url(#clip620)\" style=\"stroke:#000000; stroke-linecap:round; stroke-linejoin:round; stroke-width:4; stroke-opacity:1; fill:none\" points=\"2141.78,1423.18 2141.78,1404.28 \"/>\n<path clip-path=\"url(#clip620)\" d=\"M208.72 1468.75 L238.396 1468.75 L238.396 1472.69 L208.72 1472.69 L208.72 1468.75 Z\" fill=\"#000000\" fill-rule=\"evenodd\" fill-opacity=\"1\" /><path clip-path=\"url(#clip620)\" d=\"M249.299 1481.64 L256.937 1481.64 L256.937 1455.28 L248.627 1456.95 L248.627 1452.69 L256.891 1451.02 L261.567 1451.02 L261.567 1481.64 L269.206 1481.64 L269.206 1485.58 L249.299 1485.58 L249.299 1481.64 Z\" fill=\"#000000\" fill-rule=\"evenodd\" fill-opacity=\"1\" /><path clip-path=\"url(#clip620)\" d=\"M288.65 1454.1 Q285.039 1454.1 283.21 1457.66 Q281.405 1461.2 281.405 1468.33 Q281.405 1475.44 283.21 1479.01 Q285.039 1482.55 288.65 1482.55 Q292.284 1482.55 294.09 1479.01 Q295.919 1475.44 295.919 1468.33 Q295.919 1461.2 294.09 1457.66 Q292.284 1454.1 288.65 1454.1 M288.65 1450.39 Q294.46 1450.39 297.516 1455 Q300.595 1459.58 300.595 1468.33 Q300.595 1477.06 297.516 1481.67 Q294.46 1486.25 288.65 1486.25 Q282.84 1486.25 279.761 1481.67 Q276.706 1477.06 276.706 1468.33 Q276.706 1459.58 279.761 1455 Q282.84 1450.39 288.65 1450.39 Z\" fill=\"#000000\" fill-rule=\"evenodd\" fill-opacity=\"1\" /><path clip-path=\"url(#clip620)\" d=\"M696.078 1468.75 L725.754 1468.75 L725.754 1472.69 L696.078 1472.69 L696.078 1468.75 Z\" fill=\"#000000\" fill-rule=\"evenodd\" fill-opacity=\"1\" /><path clip-path=\"url(#clip620)\" d=\"M735.893 1451.02 L754.249 1451.02 L754.249 1454.96 L740.175 1454.96 L740.175 1463.43 Q741.194 1463.08 742.212 1462.92 Q743.231 1462.73 744.249 1462.73 Q750.036 1462.73 753.416 1465.9 Q756.796 1469.08 756.796 1474.49 Q756.796 1480.07 753.323 1483.17 Q749.851 1486.25 743.532 1486.25 Q741.356 1486.25 739.087 1485.88 Q736.842 1485.51 734.435 1484.77 L734.435 1480.07 Q736.518 1481.2 738.74 1481.76 Q740.962 1482.32 743.439 1482.32 Q747.444 1482.32 749.782 1480.21 Q752.12 1478.1 752.12 1474.49 Q752.12 1470.88 749.782 1468.77 Q747.444 1466.67 743.439 1466.67 Q741.564 1466.67 739.689 1467.08 Q737.837 1467.5 735.893 1468.38 L735.893 1451.02 Z\" fill=\"#000000\" fill-rule=\"evenodd\" fill-opacity=\"1\" /><path clip-path=\"url(#clip620)\" d=\"M1198.22 1454.1 Q1194.61 1454.1 1192.78 1457.66 Q1190.97 1461.2 1190.97 1468.33 Q1190.97 1475.44 1192.78 1479.01 Q1194.61 1482.55 1198.22 1482.55 Q1201.85 1482.55 1203.66 1479.01 Q1205.49 1475.44 1205.49 1468.33 Q1205.49 1461.2 1203.66 1457.66 Q1201.85 1454.1 1198.22 1454.1 M1198.22 1450.39 Q1204.03 1450.39 1207.08 1455 Q1210.16 1459.58 1210.16 1468.33 Q1210.16 1477.06 1207.08 1481.67 Q1204.03 1486.25 1198.22 1486.25 Q1192.41 1486.25 1189.33 1481.67 Q1186.27 1477.06 1186.27 1468.33 Q1186.27 1459.58 1189.33 1455 Q1192.41 1450.39 1198.22 1450.39 Z\" fill=\"#000000\" fill-rule=\"evenodd\" fill-opacity=\"1\" /><path clip-path=\"url(#clip620)\" d=\"M1660.27 1451.02 L1678.63 1451.02 L1678.63 1454.96 L1664.56 1454.96 L1664.56 1463.43 Q1665.58 1463.08 1666.59 1462.92 Q1667.61 1462.73 1668.63 1462.73 Q1674.42 1462.73 1677.8 1465.9 Q1681.18 1469.08 1681.18 1474.49 Q1681.18 1480.07 1677.7 1483.17 Q1674.23 1486.25 1667.91 1486.25 Q1665.74 1486.25 1663.47 1485.88 Q1661.22 1485.51 1658.82 1484.77 L1658.82 1480.07 Q1660.9 1481.2 1663.12 1481.76 Q1665.34 1482.32 1667.82 1482.32 Q1671.83 1482.32 1674.16 1480.21 Q1676.5 1478.1 1676.5 1474.49 Q1676.5 1470.88 1674.16 1468.77 Q1671.83 1466.67 1667.82 1466.67 Q1665.95 1466.67 1664.07 1467.08 Q1662.22 1467.5 1660.27 1468.38 L1660.27 1451.02 Z\" fill=\"#000000\" fill-rule=\"evenodd\" fill-opacity=\"1\" /><path clip-path=\"url(#clip620)\" d=\"M2116.46 1481.64 L2124.1 1481.64 L2124.1 1455.28 L2115.79 1456.95 L2115.79 1452.69 L2124.06 1451.02 L2128.73 1451.02 L2128.73 1481.64 L2136.37 1481.64 L2136.37 1485.58 L2116.46 1485.58 L2116.46 1481.64 Z\" fill=\"#000000\" fill-rule=\"evenodd\" fill-opacity=\"1\" /><path clip-path=\"url(#clip620)\" d=\"M2155.82 1454.1 Q2152.2 1454.1 2150.38 1457.66 Q2148.57 1461.2 2148.57 1468.33 Q2148.57 1475.44 2150.38 1479.01 Q2152.2 1482.55 2155.82 1482.55 Q2159.45 1482.55 2161.26 1479.01 Q2163.08 1475.44 2163.08 1468.33 Q2163.08 1461.2 2161.26 1457.66 Q2159.45 1454.1 2155.82 1454.1 M2155.82 1450.39 Q2161.63 1450.39 2164.68 1455 Q2167.76 1459.58 2167.76 1468.33 Q2167.76 1477.06 2164.68 1481.67 Q2161.63 1486.25 2155.82 1486.25 Q2150.01 1486.25 2146.93 1481.67 Q2143.87 1477.06 2143.87 1468.33 Q2143.87 1459.58 2146.93 1455 Q2150.01 1450.39 2155.82 1450.39 Z\" fill=\"#000000\" fill-rule=\"evenodd\" fill-opacity=\"1\" /><path clip-path=\"url(#clip620)\" d=\"M1223.2 1568.04 L1205.06 1520.52 L1211.78 1520.52 L1226.83 1560.53 L1241.92 1520.52 L1248.6 1520.52 L1230.49 1568.04 L1223.2 1568.04 Z\" fill=\"#000000\" fill-rule=\"evenodd\" fill-opacity=\"1\" /><path clip-path=\"url(#clip620)\" d=\"M1266.43 1550.12 Q1259.33 1550.12 1256.59 1551.75 Q1253.85 1553.37 1253.85 1557.29 Q1253.85 1560.4 1255.89 1562.25 Q1257.96 1564.07 1261.49 1564.07 Q1266.36 1564.07 1269.29 1560.63 Q1272.25 1557.16 1272.25 1551.43 L1272.25 1550.12 L1266.43 1550.12 M1278.11 1547.71 L1278.11 1568.04 L1272.25 1568.04 L1272.25 1562.63 Q1270.24 1565.88 1267.25 1567.44 Q1264.26 1568.97 1259.93 1568.97 Q1254.46 1568.97 1251.21 1565.91 Q1248 1562.82 1248 1557.67 Q1248 1551.65 1252.01 1548.6 Q1256.05 1545.54 1264.04 1545.54 L1272.25 1545.54 L1272.25 1544.97 Q1272.25 1540.93 1269.58 1538.73 Q1266.93 1536.5 1262.13 1536.5 Q1259.07 1536.5 1256.18 1537.23 Q1253.28 1537.97 1250.61 1539.43 L1250.61 1534.02 Q1253.82 1532.78 1256.85 1532.17 Q1259.87 1531.54 1262.73 1531.54 Q1270.47 1531.54 1274.29 1535.55 Q1278.11 1539.56 1278.11 1547.71 Z\" fill=\"#000000\" fill-rule=\"evenodd\" fill-opacity=\"1\" /><path clip-path=\"url(#clip620)\" d=\"M1290.17 1518.52 L1296.03 1518.52 L1296.03 1568.04 L1290.17 1568.04 L1290.17 1518.52 Z\" fill=\"#000000\" fill-rule=\"evenodd\" fill-opacity=\"1\" /><path clip-path=\"url(#clip620)\" d=\"M1307.68 1553.98 L1307.68 1532.4 L1313.53 1532.4 L1313.53 1553.75 Q1313.53 1558.81 1315.51 1561.36 Q1317.48 1563.87 1321.43 1563.87 Q1326.17 1563.87 1328.9 1560.85 Q1331.67 1557.83 1331.67 1552.61 L1331.67 1532.4 L1337.53 1532.4 L1337.53 1568.04 L1331.67 1568.04 L1331.67 1562.57 Q1329.54 1565.82 1326.71 1567.41 Q1323.91 1568.97 1320.18 1568.97 Q1314.04 1568.97 1310.86 1565.15 Q1307.68 1561.33 1307.68 1553.98 M1322.41 1531.54 L1322.41 1531.54 Z\" fill=\"#000000\" fill-rule=\"evenodd\" fill-opacity=\"1\" /><path clip-path=\"url(#clip620)\" d=\"M1380.09 1548.76 L1380.09 1551.62 L1353.16 1551.62 Q1353.54 1557.67 1356.79 1560.85 Q1360.07 1564 1365.89 1564 Q1369.26 1564 1372.41 1563.17 Q1375.6 1562.35 1378.72 1560.69 L1378.72 1566.23 Q1375.57 1567.57 1372.26 1568.27 Q1368.95 1568.97 1365.54 1568.97 Q1357.01 1568.97 1352.01 1564 Q1347.05 1559.04 1347.05 1550.57 Q1347.05 1541.82 1351.76 1536.69 Q1356.5 1531.54 1364.52 1531.54 Q1371.71 1531.54 1375.88 1536.18 Q1380.09 1540.8 1380.09 1548.76 M1374.23 1547.04 Q1374.17 1542.23 1371.52 1539.37 Q1368.91 1536.5 1364.58 1536.5 Q1359.68 1536.5 1356.72 1539.27 Q1353.79 1542.04 1353.35 1547.07 L1374.23 1547.04 Z\" fill=\"#000000\" fill-rule=\"evenodd\" fill-opacity=\"1\" /><polyline clip-path=\"url(#clip622)\" style=\"stroke:#000000; stroke-linecap:round; stroke-linejoin:round; stroke-width:2; stroke-opacity:0.1; fill:none\" points=\"232.389,1384.24 2352.76,1384.24 \"/>\n<polyline clip-path=\"url(#clip622)\" style=\"stroke:#000000; stroke-linecap:round; stroke-linejoin:round; stroke-width:2; stroke-opacity:0.1; fill:none\" points=\"232.389,1110 2352.76,1110 \"/>\n<polyline clip-path=\"url(#clip622)\" style=\"stroke:#000000; stroke-linecap:round; stroke-linejoin:round; stroke-width:2; stroke-opacity:0.1; fill:none\" points=\"232.389,835.765 2352.76,835.765 \"/>\n<polyline clip-path=\"url(#clip622)\" style=\"stroke:#000000; stroke-linecap:round; stroke-linejoin:round; stroke-width:2; stroke-opacity:0.1; fill:none\" points=\"232.389,561.529 2352.76,561.529 \"/>\n<polyline clip-path=\"url(#clip622)\" style=\"stroke:#000000; stroke-linecap:round; stroke-linejoin:round; stroke-width:2; stroke-opacity:0.1; fill:none\" points=\"232.389,287.292 2352.76,287.292 \"/>\n<polyline clip-path=\"url(#clip620)\" style=\"stroke:#000000; stroke-linecap:round; stroke-linejoin:round; stroke-width:4; stroke-opacity:1; fill:none\" points=\"232.389,1423.18 232.389,47.2441 \"/>\n<polyline clip-path=\"url(#clip620)\" style=\"stroke:#000000; stroke-linecap:round; stroke-linejoin:round; stroke-width:4; stroke-opacity:1; fill:none\" points=\"232.389,1384.24 251.287,1384.24 \"/>\n<polyline clip-path=\"url(#clip620)\" style=\"stroke:#000000; stroke-linecap:round; stroke-linejoin:round; stroke-width:4; stroke-opacity:1; fill:none\" points=\"232.389,1110 251.287,1110 \"/>\n<polyline clip-path=\"url(#clip620)\" style=\"stroke:#000000; stroke-linecap:round; stroke-linejoin:round; stroke-width:4; stroke-opacity:1; fill:none\" points=\"232.389,835.765 251.287,835.765 \"/>\n<polyline clip-path=\"url(#clip620)\" style=\"stroke:#000000; stroke-linecap:round; stroke-linejoin:round; stroke-width:4; stroke-opacity:1; fill:none\" points=\"232.389,561.529 251.287,561.529 \"/>\n<polyline clip-path=\"url(#clip620)\" style=\"stroke:#000000; stroke-linecap:round; stroke-linejoin:round; stroke-width:4; stroke-opacity:1; fill:none\" points=\"232.389,287.292 251.287,287.292 \"/>\n<path clip-path=\"url(#clip620)\" d=\"M184.445 1370.04 Q180.834 1370.04 179.005 1373.6 Q177.2 1377.14 177.2 1384.27 Q177.2 1391.38 179.005 1394.94 Q180.834 1398.49 184.445 1398.49 Q188.079 1398.49 189.885 1394.94 Q191.713 1391.38 191.713 1384.27 Q191.713 1377.14 189.885 1373.6 Q188.079 1370.04 184.445 1370.04 M184.445 1366.33 Q190.255 1366.33 193.311 1370.94 Q196.389 1375.52 196.389 1384.27 Q196.389 1393 193.311 1397.61 Q190.255 1402.19 184.445 1402.19 Q178.635 1402.19 175.556 1397.61 Q172.501 1393 172.501 1384.27 Q172.501 1375.52 175.556 1370.94 Q178.635 1366.33 184.445 1366.33 Z\" fill=\"#000000\" fill-rule=\"evenodd\" fill-opacity=\"1\" /><path clip-path=\"url(#clip620)\" d=\"M158.45 1108.65 Q161.806 1109.37 163.681 1111.63 Q165.579 1113.9 165.579 1117.24 Q165.579 1122.35 162.061 1125.15 Q158.542 1127.95 152.061 1127.95 Q149.885 1127.95 147.57 1127.51 Q145.279 1127.1 142.825 1126.24 L142.825 1121.73 Q144.769 1122.86 147.084 1123.44 Q149.399 1124.02 151.922 1124.02 Q156.32 1124.02 158.612 1122.28 Q160.927 1120.55 160.927 1117.24 Q160.927 1114.18 158.774 1112.47 Q156.644 1110.73 152.825 1110.73 L148.797 1110.73 L148.797 1106.89 L153.01 1106.89 Q156.459 1106.89 158.288 1105.52 Q160.116 1104.13 160.116 1101.54 Q160.116 1098.88 158.218 1097.47 Q156.343 1096.03 152.825 1096.03 Q150.903 1096.03 148.704 1096.45 Q146.505 1096.87 143.866 1097.74 L143.866 1093.58 Q146.529 1092.84 148.843 1092.47 Q151.181 1092.1 153.241 1092.1 Q158.565 1092.1 161.667 1094.53 Q164.769 1096.93 164.769 1101.06 Q164.769 1103.93 163.126 1105.92 Q161.482 1107.88 158.45 1108.65 Z\" fill=\"#000000\" fill-rule=\"evenodd\" fill-opacity=\"1\" /><path clip-path=\"url(#clip620)\" d=\"M184.445 1095.8 Q180.834 1095.8 179.005 1099.37 Q177.2 1102.91 177.2 1110.04 Q177.2 1117.14 179.005 1120.71 Q180.834 1124.25 184.445 1124.25 Q188.079 1124.25 189.885 1120.71 Q191.713 1117.14 191.713 1110.04 Q191.713 1102.91 189.885 1099.37 Q188.079 1095.8 184.445 1095.8 M184.445 1092.1 Q190.255 1092.1 193.311 1096.7 Q196.389 1101.29 196.389 1110.04 Q196.389 1118.76 193.311 1123.37 Q190.255 1127.95 184.445 1127.95 Q178.635 1127.95 175.556 1123.37 Q172.501 1118.76 172.501 1110.04 Q172.501 1101.29 175.556 1096.7 Q178.635 1092.1 184.445 1092.1 Z\" fill=\"#000000\" fill-rule=\"evenodd\" fill-opacity=\"1\" /><path clip-path=\"url(#clip620)\" d=\"M154.862 833.902 Q151.714 833.902 149.862 836.055 Q148.033 838.207 148.033 841.957 Q148.033 845.684 149.862 847.86 Q151.714 850.013 154.862 850.013 Q158.01 850.013 159.839 847.86 Q161.69 845.684 161.69 841.957 Q161.69 838.207 159.839 836.055 Q158.01 833.902 154.862 833.902 M164.144 819.249 L164.144 823.508 Q162.385 822.675 160.579 822.235 Q158.797 821.796 157.038 821.796 Q152.408 821.796 149.954 824.92 Q147.524 828.045 147.177 834.365 Q148.542 832.351 150.603 831.286 Q152.663 830.198 155.14 830.198 Q160.348 830.198 163.357 833.37 Q166.39 836.518 166.39 841.957 Q166.39 847.281 163.241 850.499 Q160.093 853.717 154.862 853.717 Q148.866 853.717 145.695 849.133 Q142.524 844.527 142.524 835.8 Q142.524 827.606 146.413 822.745 Q150.302 817.86 156.853 817.86 Q158.612 817.86 160.394 818.208 Q162.2 818.555 164.144 819.249 Z\" fill=\"#000000\" fill-rule=\"evenodd\" fill-opacity=\"1\" /><path clip-path=\"url(#clip620)\" d=\"M184.445 821.564 Q180.834 821.564 179.005 825.129 Q177.2 828.67 177.2 835.8 Q177.2 842.907 179.005 846.471 Q180.834 850.013 184.445 850.013 Q188.079 850.013 189.885 846.471 Q191.713 842.907 191.713 835.8 Q191.713 828.67 189.885 825.129 Q188.079 821.564 184.445 821.564 M184.445 817.86 Q190.255 817.86 193.311 822.467 Q196.389 827.05 196.389 835.8 Q196.389 844.527 193.311 849.133 Q190.255 853.717 184.445 853.717 Q178.635 853.717 175.556 849.133 Q172.501 844.527 172.501 835.8 Q172.501 827.05 175.556 822.467 Q178.635 817.86 184.445 817.86 Z\" fill=\"#000000\" fill-rule=\"evenodd\" fill-opacity=\"1\" /><path clip-path=\"url(#clip620)\" d=\"M144.422 578.091 L144.422 573.832 Q146.181 574.665 147.987 575.105 Q149.792 575.545 151.528 575.545 Q156.158 575.545 158.589 572.443 Q161.042 569.318 161.39 562.976 Q160.047 564.966 157.987 566.031 Q155.927 567.096 153.427 567.096 Q148.241 567.096 145.209 563.971 Q142.2 560.823 142.2 555.383 Q142.2 550.059 145.348 546.841 Q148.496 543.624 153.728 543.624 Q159.723 543.624 162.871 548.23 Q166.042 552.814 166.042 561.564 Q166.042 569.735 162.153 574.619 Q158.288 579.48 151.737 579.48 Q149.978 579.48 148.172 579.133 Q146.366 578.786 144.422 578.091 M153.728 563.439 Q156.876 563.439 158.704 561.286 Q160.556 559.133 160.556 555.383 Q160.556 551.656 158.704 549.503 Q156.876 547.328 153.728 547.328 Q150.579 547.328 148.728 549.503 Q146.899 551.656 146.899 555.383 Q146.899 559.133 148.728 561.286 Q150.579 563.439 153.728 563.439 Z\" fill=\"#000000\" fill-rule=\"evenodd\" fill-opacity=\"1\" /><path clip-path=\"url(#clip620)\" d=\"M184.445 547.328 Q180.834 547.328 179.005 550.892 Q177.2 554.434 177.2 561.564 Q177.2 568.67 179.005 572.235 Q180.834 575.776 184.445 575.776 Q188.079 575.776 189.885 572.235 Q191.713 568.67 191.713 561.564 Q191.713 554.434 189.885 550.892 Q188.079 547.328 184.445 547.328 M184.445 543.624 Q190.255 543.624 193.311 548.23 Q196.389 552.814 196.389 561.564 Q196.389 570.29 193.311 574.897 Q190.255 579.48 184.445 579.48 Q178.635 579.48 175.556 574.897 Q172.501 570.29 172.501 561.564 Q172.501 552.814 175.556 548.23 Q178.635 543.624 184.445 543.624 Z\" fill=\"#000000\" fill-rule=\"evenodd\" fill-opacity=\"1\" /><path clip-path=\"url(#clip620)\" d=\"M114.931 300.637 L122.57 300.637 L122.57 274.272 L114.26 275.938 L114.26 271.679 L122.524 270.012 L127.2 270.012 L127.2 300.637 L134.839 300.637 L134.839 304.572 L114.931 304.572 L114.931 300.637 Z\" fill=\"#000000\" fill-rule=\"evenodd\" fill-opacity=\"1\" /><path clip-path=\"url(#clip620)\" d=\"M148.311 300.637 L164.63 300.637 L164.63 304.572 L142.686 304.572 L142.686 300.637 Q145.348 297.883 149.931 293.253 Q154.538 288.6 155.718 287.258 Q157.964 284.735 158.843 282.998 Q159.746 281.239 159.746 279.549 Q159.746 276.795 157.802 275.059 Q155.88 273.323 152.778 273.323 Q150.579 273.323 148.126 274.086 Q145.695 274.85 142.917 276.401 L142.917 271.679 Q145.741 270.545 148.195 269.966 Q150.649 269.387 152.686 269.387 Q158.056 269.387 161.251 272.073 Q164.445 274.758 164.445 279.248 Q164.445 281.378 163.635 283.299 Q162.848 285.198 160.741 287.79 Q160.163 288.461 157.061 291.679 Q153.959 294.873 148.311 300.637 Z\" fill=\"#000000\" fill-rule=\"evenodd\" fill-opacity=\"1\" /><path clip-path=\"url(#clip620)\" d=\"M184.445 273.091 Q180.834 273.091 179.005 276.656 Q177.2 280.198 177.2 287.327 Q177.2 294.434 179.005 297.998 Q180.834 301.54 184.445 301.54 Q188.079 301.54 189.885 297.998 Q191.713 294.434 191.713 287.327 Q191.713 280.198 189.885 276.656 Q188.079 273.091 184.445 273.091 M184.445 269.387 Q190.255 269.387 193.311 273.994 Q196.389 278.577 196.389 287.327 Q196.389 296.054 193.311 300.66 Q190.255 305.244 184.445 305.244 Q178.635 305.244 175.556 300.66 Q172.501 296.054 172.501 287.327 Q172.501 278.577 175.556 273.994 Q178.635 269.387 184.445 269.387 Z\" fill=\"#000000\" fill-rule=\"evenodd\" fill-opacity=\"1\" /><path clip-path=\"url(#clip620)\" d=\"M20.1444 791.071 L26.9239 791.071 Q23.9002 794.318 22.4043 798.01 Q20.9083 801.67 20.9083 805.808 Q20.9083 813.956 25.9054 818.284 Q30.8707 822.613 40.2919 822.613 Q49.6813 822.613 54.6784 818.284 Q59.6436 813.956 59.6436 805.808 Q59.6436 801.67 58.1477 798.01 Q56.6518 794.318 53.6281 791.071 L60.3439 791.071 Q62.6355 794.445 63.7814 798.232 Q64.9272 801.988 64.9272 806.19 Q64.9272 816.979 58.3387 823.186 Q51.7183 829.393 40.2919 829.393 Q28.8336 829.393 22.2451 823.186 Q15.6248 816.979 15.6248 806.19 Q15.6248 801.925 16.7706 798.169 Q17.8846 794.381 20.1444 791.071 Z\" fill=\"#000000\" fill-rule=\"evenodd\" fill-opacity=\"1\" /><path clip-path=\"url(#clip620)\" d=\"M32.4621 767.582 Q32.4621 772.292 36.1542 775.029 Q39.8145 777.767 46.212 777.767 Q52.6095 777.767 56.3017 775.061 Q59.9619 772.324 59.9619 767.582 Q59.9619 762.903 56.2698 760.166 Q52.5777 757.428 46.212 757.428 Q39.8781 757.428 36.186 760.166 Q32.4621 762.903 32.4621 767.582 M27.4968 767.582 Q27.4968 759.943 32.4621 755.582 Q37.4273 751.222 46.212 751.222 Q54.9649 751.222 59.9619 755.582 Q64.9272 759.943 64.9272 767.582 Q64.9272 775.252 59.9619 779.613 Q54.9649 783.941 46.212 783.941 Q37.4273 783.941 32.4621 779.613 Q27.4968 775.252 27.4968 767.582 Z\" fill=\"#000000\" fill-rule=\"evenodd\" fill-opacity=\"1\" /><path clip-path=\"url(#clip620)\" d=\"M49.9359 742.119 L28.3562 742.119 L28.3562 736.262 L49.7131 736.262 Q54.7739 736.262 57.3202 734.289 Q59.8346 732.316 59.8346 728.369 Q59.8346 723.626 56.8109 720.889 Q53.7872 718.12 48.5673 718.12 L28.3562 718.12 L28.3562 712.264 L64.0042 712.264 L64.0042 718.12 L58.5296 718.12 Q61.7762 720.253 63.3676 723.085 Q64.9272 725.886 64.9272 729.61 Q64.9272 735.753 61.1078 738.936 Q57.2883 742.119 49.9359 742.119 M27.4968 727.382 L27.4968 727.382 Z\" fill=\"#000000\" fill-rule=\"evenodd\" fill-opacity=\"1\" /><path clip-path=\"url(#clip620)\" d=\"M42.4881 670.568 L64.0042 670.568 L64.0042 676.425 L42.679 676.425 Q37.6183 676.425 35.1038 678.398 Q32.5894 680.371 32.5894 684.318 Q32.5894 689.061 35.6131 691.798 Q38.6368 694.535 43.8567 694.535 L64.0042 694.535 L64.0042 700.423 L28.3562 700.423 L28.3562 694.535 L33.8944 694.535 Q30.6797 692.434 29.0883 689.602 Q27.4968 686.737 27.4968 683.013 Q27.4968 676.87 31.3163 673.719 Q35.1038 670.568 42.4881 670.568 Z\" fill=\"#000000\" fill-rule=\"evenodd\" fill-opacity=\"1\" /><path clip-path=\"url(#clip620)\" d=\"M18.2347 653.094 L28.3562 653.094 L28.3562 641.031 L32.9077 641.031 L32.9077 653.094 L52.2594 653.094 Q56.6199 653.094 57.8613 651.917 Q59.1026 650.707 59.1026 647.047 L59.1026 641.031 L64.0042 641.031 L64.0042 647.047 Q64.0042 653.826 61.4897 656.405 Q58.9434 658.983 52.2594 658.983 L32.9077 658.983 L32.9077 663.279 L28.3562 663.279 L28.3562 658.983 L18.2347 658.983 L18.2347 653.094 Z\" fill=\"#000000\" fill-rule=\"evenodd\" fill-opacity=\"1\" /><path clip-path=\"url(#clip622)\" d=\"M349.013 1375.1 L349.013 1384.24 L443.369 1384.24 L443.369 1375.1 L349.013 1375.1 L349.013 1375.1  Z\" fill=\"#009af9\" fill-rule=\"evenodd\" fill-opacity=\"1\"/>\n<polyline clip-path=\"url(#clip622)\" style=\"stroke:#000000; stroke-linecap:round; stroke-linejoin:round; stroke-width:4; stroke-opacity:1; fill:none\" points=\"349.013,1375.1 349.013,1384.24 443.369,1384.24 443.369,1375.1 349.013,1375.1 \"/>\n<path clip-path=\"url(#clip622)\" d=\"M443.369 1347.67 L443.369 1384.24 L537.725 1384.24 L537.725 1347.67 L443.369 1347.67 L443.369 1347.67  Z\" fill=\"#009af9\" fill-rule=\"evenodd\" fill-opacity=\"1\"/>\n<polyline clip-path=\"url(#clip622)\" style=\"stroke:#000000; stroke-linecap:round; stroke-linejoin:round; stroke-width:4; stroke-opacity:1; fill:none\" points=\"443.369,1347.67 443.369,1384.24 537.725,1384.24 537.725,1347.67 443.369,1347.67 \"/>\n<path clip-path=\"url(#clip622)\" d=\"M537.725 1301.97 L537.725 1384.24 L632.081 1384.24 L632.081 1301.97 L537.725 1301.97 L537.725 1301.97  Z\" fill=\"#009af9\" fill-rule=\"evenodd\" fill-opacity=\"1\"/>\n<polyline clip-path=\"url(#clip622)\" style=\"stroke:#000000; stroke-linecap:round; stroke-linejoin:round; stroke-width:4; stroke-opacity:1; fill:none\" points=\"537.725,1301.97 537.725,1384.24 632.081,1384.24 632.081,1301.97 537.725,1301.97 \"/>\n<path clip-path=\"url(#clip622)\" d=\"M632.081 1219.7 L632.081 1384.24 L726.437 1384.24 L726.437 1219.7 L632.081 1219.7 L632.081 1219.7  Z\" fill=\"#009af9\" fill-rule=\"evenodd\" fill-opacity=\"1\"/>\n<polyline clip-path=\"url(#clip622)\" style=\"stroke:#000000; stroke-linecap:round; stroke-linejoin:round; stroke-width:4; stroke-opacity:1; fill:none\" points=\"632.081,1219.7 632.081,1384.24 726.437,1384.24 726.437,1219.7 632.081,1219.7 \"/>\n<path clip-path=\"url(#clip622)\" d=\"M726.437 1100.86 L726.437 1384.24 L820.793 1384.24 L820.793 1100.86 L726.437 1100.86 L726.437 1100.86  Z\" fill=\"#009af9\" fill-rule=\"evenodd\" fill-opacity=\"1\"/>\n<polyline clip-path=\"url(#clip622)\" style=\"stroke:#000000; stroke-linecap:round; stroke-linejoin:round; stroke-width:4; stroke-opacity:1; fill:none\" points=\"726.437,1100.86 726.437,1384.24 820.793,1384.24 820.793,1100.86 726.437,1100.86 \"/>\n<path clip-path=\"url(#clip622)\" d=\"M820.793 707.788 L820.793 1384.24 L915.149 1384.24 L915.149 707.788 L820.793 707.788 L820.793 707.788  Z\" fill=\"#009af9\" fill-rule=\"evenodd\" fill-opacity=\"1\"/>\n<polyline clip-path=\"url(#clip622)\" style=\"stroke:#000000; stroke-linecap:round; stroke-linejoin:round; stroke-width:4; stroke-opacity:1; fill:none\" points=\"820.793,707.788 820.793,1384.24 915.149,1384.24 915.149,707.788 820.793,707.788 \"/>\n<path clip-path=\"url(#clip622)\" d=\"M915.149 625.517 L915.149 1384.24 L1009.5 1384.24 L1009.5 625.517 L915.149 625.517 L915.149 625.517  Z\" fill=\"#009af9\" fill-rule=\"evenodd\" fill-opacity=\"1\"/>\n<polyline clip-path=\"url(#clip622)\" style=\"stroke:#000000; stroke-linecap:round; stroke-linejoin:round; stroke-width:4; stroke-opacity:1; fill:none\" points=\"915.149,625.517 915.149,1384.24 1009.5,1384.24 1009.5,625.517 915.149,625.517 \"/>\n<path clip-path=\"url(#clip622)\" d=\"M1009.5 177.598 L1009.5 1384.24 L1103.86 1384.24 L1103.86 177.598 L1009.5 177.598 L1009.5 177.598  Z\" fill=\"#009af9\" fill-rule=\"evenodd\" fill-opacity=\"1\"/>\n<polyline clip-path=\"url(#clip622)\" style=\"stroke:#000000; stroke-linecap:round; stroke-linejoin:round; stroke-width:4; stroke-opacity:1; fill:none\" points=\"1009.5,177.598 1009.5,1384.24 1103.86,1384.24 1103.86,177.598 1009.5,177.598 \"/>\n<path clip-path=\"url(#clip622)\" d=\"M1103.86 195.88 L1103.86 1384.24 L1198.22 1384.24 L1198.22 195.88 L1103.86 195.88 L1103.86 195.88  Z\" fill=\"#009af9\" fill-rule=\"evenodd\" fill-opacity=\"1\"/>\n<polyline clip-path=\"url(#clip622)\" style=\"stroke:#000000; stroke-linecap:round; stroke-linejoin:round; stroke-width:4; stroke-opacity:1; fill:none\" points=\"1103.86,195.88 1103.86,1384.24 1198.22,1384.24 1198.22,195.88 1103.86,195.88 \"/>\n<path clip-path=\"url(#clip622)\" d=\"M1198.22 86.1857 L1198.22 1384.24 L1292.57 1384.24 L1292.57 86.1857 L1198.22 86.1857 L1198.22 86.1857  Z\" fill=\"#009af9\" fill-rule=\"evenodd\" fill-opacity=\"1\"/>\n<polyline clip-path=\"url(#clip622)\" style=\"stroke:#000000; stroke-linecap:round; stroke-linejoin:round; stroke-width:4; stroke-opacity:1; fill:none\" points=\"1198.22,86.1857 1198.22,1384.24 1292.57,1384.24 1292.57,86.1857 1198.22,86.1857 \"/>\n<path clip-path=\"url(#clip622)\" d=\"M1292.57 250.728 L1292.57 1384.24 L1386.93 1384.24 L1386.93 250.728 L1292.57 250.728 L1292.57 250.728  Z\" fill=\"#009af9\" fill-rule=\"evenodd\" fill-opacity=\"1\"/>\n<polyline clip-path=\"url(#clip622)\" style=\"stroke:#000000; stroke-linecap:round; stroke-linejoin:round; stroke-width:4; stroke-opacity:1; fill:none\" points=\"1292.57,250.728 1292.57,1384.24 1386.93,1384.24 1386.93,250.728 1292.57,250.728 \"/>\n<path clip-path=\"url(#clip622)\" d=\"M1386.93 342.14 L1386.93 1384.24 L1481.28 1384.24 L1481.28 342.14 L1386.93 342.14 L1386.93 342.14  Z\" fill=\"#009af9\" fill-rule=\"evenodd\" fill-opacity=\"1\"/>\n<polyline clip-path=\"url(#clip622)\" style=\"stroke:#000000; stroke-linecap:round; stroke-linejoin:round; stroke-width:4; stroke-opacity:1; fill:none\" points=\"1386.93,342.14 1386.93,1384.24 1481.28,1384.24 1481.28,342.14 1386.93,342.14 \"/>\n<path clip-path=\"url(#clip622)\" d=\"M1481.28 771.777 L1481.28 1384.24 L1575.64 1384.24 L1575.64 771.777 L1481.28 771.777 L1481.28 771.777  Z\" fill=\"#009af9\" fill-rule=\"evenodd\" fill-opacity=\"1\"/>\n<polyline clip-path=\"url(#clip622)\" style=\"stroke:#000000; stroke-linecap:round; stroke-linejoin:round; stroke-width:4; stroke-opacity:1; fill:none\" points=\"1481.28,771.777 1481.28,1384.24 1575.64,1384.24 1575.64,771.777 1481.28,771.777 \"/>\n<path clip-path=\"url(#clip622)\" d=\"M1575.64 1018.59 L1575.64 1384.24 L1670 1384.24 L1670 1018.59 L1575.64 1018.59 L1575.64 1018.59  Z\" fill=\"#009af9\" fill-rule=\"evenodd\" fill-opacity=\"1\"/>\n<polyline clip-path=\"url(#clip622)\" style=\"stroke:#000000; stroke-linecap:round; stroke-linejoin:round; stroke-width:4; stroke-opacity:1; fill:none\" points=\"1575.64,1018.59 1575.64,1384.24 1670,1384.24 1670,1018.59 1575.64,1018.59 \"/>\n<path clip-path=\"url(#clip622)\" d=\"M1670 1210.56 L1670 1384.24 L1764.35 1384.24 L1764.35 1210.56 L1670 1210.56 L1670 1210.56  Z\" fill=\"#009af9\" fill-rule=\"evenodd\" fill-opacity=\"1\"/>\n<polyline clip-path=\"url(#clip622)\" style=\"stroke:#000000; stroke-linecap:round; stroke-linejoin:round; stroke-width:4; stroke-opacity:1; fill:none\" points=\"1670,1210.56 1670,1384.24 1764.35,1384.24 1764.35,1210.56 1670,1210.56 \"/>\n<path clip-path=\"url(#clip622)\" d=\"M1764.35 1338.53 L1764.35 1384.24 L1858.71 1384.24 L1858.71 1338.53 L1764.35 1338.53 L1764.35 1338.53  Z\" fill=\"#009af9\" fill-rule=\"evenodd\" fill-opacity=\"1\"/>\n<polyline clip-path=\"url(#clip622)\" style=\"stroke:#000000; stroke-linecap:round; stroke-linejoin:round; stroke-width:4; stroke-opacity:1; fill:none\" points=\"1764.35,1338.53 1764.35,1384.24 1858.71,1384.24 1858.71,1338.53 1764.35,1338.53 \"/>\n<path clip-path=\"url(#clip622)\" d=\"M1858.71 1356.81 L1858.71 1384.24 L1953.06 1384.24 L1953.06 1356.81 L1858.71 1356.81 L1858.71 1356.81  Z\" fill=\"#009af9\" fill-rule=\"evenodd\" fill-opacity=\"1\"/>\n<polyline clip-path=\"url(#clip622)\" style=\"stroke:#000000; stroke-linecap:round; stroke-linejoin:round; stroke-width:4; stroke-opacity:1; fill:none\" points=\"1858.71,1356.81 1858.71,1384.24 1953.06,1384.24 1953.06,1356.81 1858.71,1356.81 \"/>\n<path clip-path=\"url(#clip622)\" d=\"M1953.06 1375.1 L1953.06 1384.24 L2047.42 1384.24 L2047.42 1375.1 L1953.06 1375.1 L1953.06 1375.1  Z\" fill=\"#009af9\" fill-rule=\"evenodd\" fill-opacity=\"1\"/>\n<polyline clip-path=\"url(#clip622)\" style=\"stroke:#000000; stroke-linecap:round; stroke-linejoin:round; stroke-width:4; stroke-opacity:1; fill:none\" points=\"1953.06,1375.1 1953.06,1384.24 2047.42,1384.24 2047.42,1375.1 1953.06,1375.1 \"/>\n<path clip-path=\"url(#clip622)\" d=\"M2047.42 1365.96 L2047.42 1384.24 L2141.78 1384.24 L2141.78 1365.96 L2047.42 1365.96 L2047.42 1365.96  Z\" fill=\"#009af9\" fill-rule=\"evenodd\" fill-opacity=\"1\"/>\n<polyline clip-path=\"url(#clip622)\" style=\"stroke:#000000; stroke-linecap:round; stroke-linejoin:round; stroke-width:4; stroke-opacity:1; fill:none\" points=\"2047.42,1365.96 2047.42,1384.24 2141.78,1384.24 2141.78,1365.96 2047.42,1365.96 \"/>\n<path clip-path=\"url(#clip622)\" d=\"M2141.78 1375.1 L2141.78 1384.24 L2236.13 1384.24 L2236.13 1375.1 L2141.78 1375.1 L2141.78 1375.1  Z\" fill=\"#009af9\" fill-rule=\"evenodd\" fill-opacity=\"1\"/>\n<polyline clip-path=\"url(#clip622)\" style=\"stroke:#000000; stroke-linecap:round; stroke-linejoin:round; stroke-width:4; stroke-opacity:1; fill:none\" points=\"2141.78,1375.1 2141.78,1384.24 2236.13,1384.24 2236.13,1375.1 2141.78,1375.1 \"/>\n<circle clip-path=\"url(#clip622)\" style=\"fill:#009af9; stroke:none; fill-opacity:0\" cx=\"396.191\" cy=\"1375.1\" r=\"2\"/>\n<circle clip-path=\"url(#clip622)\" style=\"fill:#009af9; stroke:none; fill-opacity:0\" cx=\"490.547\" cy=\"1347.67\" r=\"2\"/>\n<circle clip-path=\"url(#clip622)\" style=\"fill:#009af9; stroke:none; fill-opacity:0\" cx=\"584.903\" cy=\"1301.97\" r=\"2\"/>\n<circle clip-path=\"url(#clip622)\" style=\"fill:#009af9; stroke:none; fill-opacity:0\" cx=\"679.259\" cy=\"1219.7\" r=\"2\"/>\n<circle clip-path=\"url(#clip622)\" style=\"fill:#009af9; stroke:none; fill-opacity:0\" cx=\"773.615\" cy=\"1100.86\" r=\"2\"/>\n<circle clip-path=\"url(#clip622)\" style=\"fill:#009af9; stroke:none; fill-opacity:0\" cx=\"867.971\" cy=\"707.788\" r=\"2\"/>\n<circle clip-path=\"url(#clip622)\" style=\"fill:#009af9; stroke:none; fill-opacity:0\" cx=\"962.327\" cy=\"625.517\" r=\"2\"/>\n<circle clip-path=\"url(#clip622)\" style=\"fill:#009af9; stroke:none; fill-opacity:0\" cx=\"1056.68\" cy=\"177.598\" r=\"2\"/>\n<circle clip-path=\"url(#clip622)\" style=\"fill:#009af9; stroke:none; fill-opacity:0\" cx=\"1151.04\" cy=\"195.88\" r=\"2\"/>\n<circle clip-path=\"url(#clip622)\" style=\"fill:#009af9; stroke:none; fill-opacity:0\" cx=\"1245.39\" cy=\"86.1857\" r=\"2\"/>\n<circle clip-path=\"url(#clip622)\" style=\"fill:#009af9; stroke:none; fill-opacity:0\" cx=\"1339.75\" cy=\"250.728\" r=\"2\"/>\n<circle clip-path=\"url(#clip622)\" style=\"fill:#009af9; stroke:none; fill-opacity:0\" cx=\"1434.11\" cy=\"342.14\" r=\"2\"/>\n<circle clip-path=\"url(#clip622)\" style=\"fill:#009af9; stroke:none; fill-opacity:0\" cx=\"1528.46\" cy=\"771.777\" r=\"2\"/>\n<circle clip-path=\"url(#clip622)\" style=\"fill:#009af9; stroke:none; fill-opacity:0\" cx=\"1622.82\" cy=\"1018.59\" r=\"2\"/>\n<circle clip-path=\"url(#clip622)\" style=\"fill:#009af9; stroke:none; fill-opacity:0\" cx=\"1717.17\" cy=\"1210.56\" r=\"2\"/>\n<circle clip-path=\"url(#clip622)\" style=\"fill:#009af9; stroke:none; fill-opacity:0\" cx=\"1811.53\" cy=\"1338.53\" r=\"2\"/>\n<circle clip-path=\"url(#clip622)\" style=\"fill:#009af9; stroke:none; fill-opacity:0\" cx=\"1905.89\" cy=\"1356.81\" r=\"2\"/>\n<circle clip-path=\"url(#clip622)\" style=\"fill:#009af9; stroke:none; fill-opacity:0\" cx=\"2000.24\" cy=\"1375.1\" r=\"2\"/>\n<circle clip-path=\"url(#clip622)\" style=\"fill:#009af9; stroke:none; fill-opacity:0\" cx=\"2094.6\" cy=\"1365.96\" r=\"2\"/>\n<circle clip-path=\"url(#clip622)\" style=\"fill:#009af9; stroke:none; fill-opacity:0\" cx=\"2188.95\" cy=\"1375.1\" r=\"2\"/>\n<polyline clip-path=\"url(#clip622)\" style=\"stroke:#ff0000; stroke-linecap:round; stroke-linejoin:round; stroke-width:8; stroke-opacity:1; fill:none\" stroke-dasharray=\"32, 20\" points=\"1205.7,2799.12 1205.7,-1328.69 \"/>\n</svg>\n"
     },
     "execution_count": 15,
     "metadata": {},
     "output_type": "execute_result"
    }
   ],
   "source": [
    "histogram(x[:, T+1], xlabel = \"Value\", ylabel = \"Count\", legend=false) # # make basic histogram\n",
    "meanval = mean(x[:, T+1]) # get mean\n",
    "vline!([meanval], color=:red, linestyle=:dash, lw=2)"
   ]
  },
  {
   "cell_type": "markdown",
   "metadata": {},
   "source": [
    "---"
   ]
  },
  {
   "cell_type": "markdown",
   "metadata": {},
   "source": [
    "## Looking For Help\n",
    "\n",
    "There is no shame in using Google, or other resources, for help when programming. There are many, many times when you can't quite get the syntax to work, can't quite figure out the right package or command to use, or are feeling too lazy or overwhelmed (I'm not judging either of those!) to dig through the documentation. [Stack Overflow](https://stackoverflow.com/) is a treasure trove of answers, as are the [official Julia forum](https://discourse.julialang.org/) and the [Julia Subreddit](https://www.reddit.com/r/Julia/). You are also highly encouraged to post on [Ed Discussion](https://us.edstem.org), though getting a response might be less immediate. Just be mindful that to get good answers, you have to [help people help you](https://stackoverflow.com/help/how-to-ask), and **make sure to give credit to any resources that were helpful**!"
   ]
  },
  {
   "cell_type": "markdown",
   "metadata": {},
   "source": [
    "![XKCD Cartoon 979 on looking for help](https://imgs.xkcd.com/comics/wisdom_of_the_ancients.png) <br>\n",
    "*Credit*: [XKCD #979](https://xkcd.com/979/)"
   ]
  },
  {
   "cell_type": "markdown",
   "metadata": {},
   "source": [
    "---"
   ]
  },
  {
   "cell_type": "markdown",
   "metadata": {},
   "source": [
    "## Exercises\n",
    "\n",
    "Use your understanding of Julia syntax to complete the following (hopefully short) exercises. [Convert your completed notebook to a PDF](https://viveks.me/climate-risk-analysis/assignments/workflow/#converting_notebooks_to_pdf) and submit it to the Gradescope Assignment \"Lab 1\".\n",
    "\n",
    "**Remember to**:\n",
    "- Evaluate all of your code cells, in order (using a `Run All` command). This will make sure all output is visible and that the code cells were evaluated in the correct order.\n",
    "- Tag each of the problems when you submit to Gradescope; a 10% penalty will be deducted if this is not done."
   ]
  },
  {
   "cell_type": "markdown",
   "metadata": {},
   "source": [
    "### Exercise 1 (10 points)\n",
    "\n",
    "Adapt the previous code to obtain 10,000 realizations of the same time series for 10 time steps. Plot a histogram of the end-period values."
   ]
  },
  {
   "cell_type": "code",
   "execution_count": 16,
   "metadata": {},
   "outputs": [
    {
     "data": {
      "text/plain": [
       "10000×11 Matrix{Float64}:\n",
       " 3.0   1.66663    0.517028   1.51345   …   0.795361  -2.00829    -0.526156\n",
       " 3.0  -2.38786   -3.50644   -4.14267       1.51276   -1.76489    -1.81039\n",
       " 3.0  -0.846602  -2.00256    2.95721       3.64163    1.93572     4.20801\n",
       " 3.0   1.7077     1.16635    0.829973     -0.411789   2.57391     0.762914\n",
       " 3.0  -0.58323   -1.503     -1.10076      -0.281293  -1.44413    -1.74855\n",
       " 3.0   2.33711    2.54884    0.135723  …  -0.513271   0.122155   -3.03027\n",
       " 3.0   1.00827   -1.66199   -0.294277     -5.52619   -3.35243    -2.0764\n",
       " 3.0   5.32676    3.63863    2.76618       3.07693    1.4126      0.56584\n",
       " 3.0  -0.193924  -2.5567    -0.440495      2.93096    3.98875     4.11863\n",
       " 3.0   3.89456   -1.29888   -2.17279      -0.289774   0.801453    0.911114\n",
       " 3.0   3.87695    3.49104    4.01945   …   1.87935    0.226873   -0.584386\n",
       " 3.0   1.89237    2.21432    1.33517       2.75059    6.25785     2.82224\n",
       " 3.0   3.49058    3.81007    3.48592      -1.26344   -1.94434    -1.26613\n",
       " ⋮                                     ⋱                          ⋮\n",
       " 3.0   2.63147    3.09814    3.63551       3.65921    4.89507     4.0636\n",
       " 3.0   1.39409    2.07088    2.25242       0.27642   -0.0587609  -1.89818\n",
       " 3.0   3.93847    2.69988   -1.19977   …   3.71361    2.09786     1.48549\n",
       " 3.0   1.30532    1.03017   -0.304729     -2.38954    1.24854     0.473779\n",
       " 3.0   3.1799     2.53415    1.51252       6.29028    2.40792    -1.67073\n",
       " 3.0   2.90147    4.40299    3.36689       3.66044    1.45176    -1.68888\n",
       " 3.0   1.25985    2.49063   -0.293199     -4.02019   -2.42297    -2.23477\n",
       " 3.0  -0.151337  -0.187455  -0.296689  …  -1.34247   -1.99793    -0.272838\n",
       " 3.0   3.06457    3.61385    5.12748       1.58448    3.26253     2.27331\n",
       " 3.0   4.79207   -1.54517   -4.56895      -0.724256   3.141       2.15551\n",
       " 3.0   3.23137    1.50614    1.06655       0.360894   0.601313    4.49298\n",
       " 3.0   1.8387     5.05185    3.49471       0.27351    2.59614     0.742228"
      ]
     },
     "execution_count": 16,
     "metadata": {},
     "output_type": "execute_result"
    }
   ],
   "source": [
    "# set variable values\n",
    "T = 10 # number of time steps\n",
    "x₀ = 3 # initial value\n",
    "μ = 0 # normal distribution mean\n",
    "σ = 2 # normal distribution standard deviation\n",
    "N = 10000 # number of realizations\n",
    "\n",
    "y = run_time_series(N, T, x₀, μ, σ)"
   ]
  },
  {
   "cell_type": "code",
   "execution_count": 17,
   "metadata": {},
   "outputs": [
    {
     "data": {
      "image/svg+xml": "<?xml version=\"1.0\" encoding=\"utf-8\"?>\n<svg xmlns=\"http://www.w3.org/2000/svg\" xmlns:xlink=\"http://www.w3.org/1999/xlink\" width=\"600\" height=\"400\" viewBox=\"0 0 2400 1600\">\n<defs>\n  <clipPath id=\"clip660\">\n    <rect x=\"0\" y=\"0\" width=\"2400\" height=\"1600\"/>\n  </clipPath>\n</defs>\n<path clip-path=\"url(#clip660)\" d=\"M0 1600 L2400 1600 L2400 0 L0 0  Z\" fill=\"#ffffff\" fill-rule=\"evenodd\" fill-opacity=\"1\"/>\n<defs>\n  <clipPath id=\"clip661\">\n    <rect x=\"480\" y=\"0\" width=\"1681\" height=\"1600\"/>\n  </clipPath>\n</defs>\n<path clip-path=\"url(#clip660)\" d=\"M235.283 1423.18 L2352.76 1423.18 L2352.76 47.2441 L235.283 47.2441  Z\" fill=\"#ffffff\" fill-rule=\"evenodd\" fill-opacity=\"1\"/>\n<defs>\n  <clipPath id=\"clip662\">\n    <rect x=\"235\" y=\"47\" width=\"2118\" height=\"1377\"/>\n  </clipPath>\n</defs>\n<polyline clip-path=\"url(#clip662)\" style=\"stroke:#000000; stroke-linecap:round; stroke-linejoin:round; stroke-width:2; stroke-opacity:0.1; fill:none\" points=\"304.634,1423.18 304.634,47.2441 \"/>\n<polyline clip-path=\"url(#clip662)\" style=\"stroke:#000000; stroke-linecap:round; stroke-linejoin:round; stroke-width:2; stroke-opacity:0.1; fill:none\" points=\"775.77,1423.18 775.77,47.2441 \"/>\n<polyline clip-path=\"url(#clip662)\" style=\"stroke:#000000; stroke-linecap:round; stroke-linejoin:round; stroke-width:2; stroke-opacity:0.1; fill:none\" points=\"1246.91,1423.18 1246.91,47.2441 \"/>\n<polyline clip-path=\"url(#clip662)\" style=\"stroke:#000000; stroke-linecap:round; stroke-linejoin:round; stroke-width:2; stroke-opacity:0.1; fill:none\" points=\"1718.04,1423.18 1718.04,47.2441 \"/>\n<polyline clip-path=\"url(#clip662)\" style=\"stroke:#000000; stroke-linecap:round; stroke-linejoin:round; stroke-width:2; stroke-opacity:0.1; fill:none\" points=\"2189.18,1423.18 2189.18,47.2441 \"/>\n<polyline clip-path=\"url(#clip660)\" style=\"stroke:#000000; stroke-linecap:round; stroke-linejoin:round; stroke-width:4; stroke-opacity:1; fill:none\" points=\"235.283,1423.18 2352.76,1423.18 \"/>\n<polyline clip-path=\"url(#clip660)\" style=\"stroke:#000000; stroke-linecap:round; stroke-linejoin:round; stroke-width:4; stroke-opacity:1; fill:none\" points=\"304.634,1423.18 304.634,1404.28 \"/>\n<polyline clip-path=\"url(#clip660)\" style=\"stroke:#000000; stroke-linecap:round; stroke-linejoin:round; stroke-width:4; stroke-opacity:1; fill:none\" points=\"775.77,1423.18 775.77,1404.28 \"/>\n<polyline clip-path=\"url(#clip660)\" style=\"stroke:#000000; stroke-linecap:round; stroke-linejoin:round; stroke-width:4; stroke-opacity:1; fill:none\" points=\"1246.91,1423.18 1246.91,1404.28 \"/>\n<polyline clip-path=\"url(#clip660)\" style=\"stroke:#000000; stroke-linecap:round; stroke-linejoin:round; stroke-width:4; stroke-opacity:1; fill:none\" points=\"1718.04,1423.18 1718.04,1404.28 \"/>\n<polyline clip-path=\"url(#clip660)\" style=\"stroke:#000000; stroke-linecap:round; stroke-linejoin:round; stroke-width:4; stroke-opacity:1; fill:none\" points=\"2189.18,1423.18 2189.18,1404.28 \"/>\n<path clip-path=\"url(#clip660)\" d=\"M258.697 1468.75 L288.373 1468.75 L288.373 1472.69 L258.697 1472.69 L258.697 1468.75 Z\" fill=\"#000000\" fill-rule=\"evenodd\" fill-opacity=\"1\" /><path clip-path=\"url(#clip660)\" d=\"M299.275 1481.64 L306.914 1481.64 L306.914 1455.28 L298.604 1456.95 L298.604 1452.69 L306.868 1451.02 L311.544 1451.02 L311.544 1481.64 L319.183 1481.64 L319.183 1485.58 L299.275 1485.58 L299.275 1481.64 Z\" fill=\"#000000\" fill-rule=\"evenodd\" fill-opacity=\"1\" /><path clip-path=\"url(#clip660)\" d=\"M338.627 1454.1 Q335.016 1454.1 333.187 1457.66 Q331.382 1461.2 331.382 1468.33 Q331.382 1475.44 333.187 1479.01 Q335.016 1482.55 338.627 1482.55 Q342.261 1482.55 344.067 1479.01 Q345.895 1475.44 345.895 1468.33 Q345.895 1461.2 344.067 1457.66 Q342.261 1454.1 338.627 1454.1 M338.627 1450.39 Q344.437 1450.39 347.493 1455 Q350.571 1459.58 350.571 1468.33 Q350.571 1477.06 347.493 1481.67 Q344.437 1486.25 338.627 1486.25 Q332.817 1486.25 329.738 1481.67 Q326.683 1477.06 326.683 1468.33 Q326.683 1459.58 329.738 1455 Q332.817 1450.39 338.627 1450.39 Z\" fill=\"#000000\" fill-rule=\"evenodd\" fill-opacity=\"1\" /><path clip-path=\"url(#clip660)\" d=\"M745.411 1468.75 L775.087 1468.75 L775.087 1472.69 L745.411 1472.69 L745.411 1468.75 Z\" fill=\"#000000\" fill-rule=\"evenodd\" fill-opacity=\"1\" /><path clip-path=\"url(#clip660)\" d=\"M785.226 1451.02 L803.582 1451.02 L803.582 1454.96 L789.508 1454.96 L789.508 1463.43 Q790.527 1463.08 791.545 1462.92 Q792.564 1462.73 793.582 1462.73 Q799.369 1462.73 802.749 1465.9 Q806.129 1469.08 806.129 1474.49 Q806.129 1480.07 802.656 1483.17 Q799.184 1486.25 792.865 1486.25 Q790.689 1486.25 788.42 1485.88 Q786.175 1485.51 783.768 1484.77 L783.768 1480.07 Q785.851 1481.2 788.073 1481.76 Q790.295 1482.32 792.772 1482.32 Q796.777 1482.32 799.115 1480.21 Q801.453 1478.1 801.453 1474.49 Q801.453 1470.88 799.115 1468.77 Q796.777 1466.67 792.772 1466.67 Q790.897 1466.67 789.022 1467.08 Q787.17 1467.5 785.226 1468.38 L785.226 1451.02 Z\" fill=\"#000000\" fill-rule=\"evenodd\" fill-opacity=\"1\" /><path clip-path=\"url(#clip660)\" d=\"M1246.91 1454.1 Q1243.29 1454.1 1241.47 1457.66 Q1239.66 1461.2 1239.66 1468.33 Q1239.66 1475.44 1241.47 1479.01 Q1243.29 1482.55 1246.91 1482.55 Q1250.54 1482.55 1252.35 1479.01 Q1254.17 1475.44 1254.17 1468.33 Q1254.17 1461.2 1252.35 1457.66 Q1250.54 1454.1 1246.91 1454.1 M1246.91 1450.39 Q1252.72 1450.39 1255.77 1455 Q1258.85 1459.58 1258.85 1468.33 Q1258.85 1477.06 1255.77 1481.67 Q1252.72 1486.25 1246.91 1486.25 Q1241.1 1486.25 1238.02 1481.67 Q1234.96 1477.06 1234.96 1468.33 Q1234.96 1459.58 1238.02 1455 Q1241.1 1450.39 1246.91 1450.39 Z\" fill=\"#000000\" fill-rule=\"evenodd\" fill-opacity=\"1\" /><path clip-path=\"url(#clip660)\" d=\"M1708.32 1451.02 L1726.68 1451.02 L1726.68 1454.96 L1712.6 1454.96 L1712.6 1463.43 Q1713.62 1463.08 1714.64 1462.92 Q1715.66 1462.73 1716.68 1462.73 Q1722.46 1462.73 1725.84 1465.9 Q1729.22 1469.08 1729.22 1474.49 Q1729.22 1480.07 1725.75 1483.17 Q1722.28 1486.25 1715.96 1486.25 Q1713.78 1486.25 1711.51 1485.88 Q1709.27 1485.51 1706.86 1484.77 L1706.86 1480.07 Q1708.94 1481.2 1711.17 1481.76 Q1713.39 1482.32 1715.87 1482.32 Q1719.87 1482.32 1722.21 1480.21 Q1724.55 1478.1 1724.55 1474.49 Q1724.55 1470.88 1722.21 1468.77 Q1719.87 1466.67 1715.87 1466.67 Q1713.99 1466.67 1712.12 1467.08 Q1710.26 1467.5 1708.32 1468.38 L1708.32 1451.02 Z\" fill=\"#000000\" fill-rule=\"evenodd\" fill-opacity=\"1\" /><path clip-path=\"url(#clip660)\" d=\"M2163.87 1481.64 L2171.5 1481.64 L2171.5 1455.28 L2163.19 1456.95 L2163.19 1452.69 L2171.46 1451.02 L2176.13 1451.02 L2176.13 1481.64 L2183.77 1481.64 L2183.77 1485.58 L2163.87 1485.58 L2163.87 1481.64 Z\" fill=\"#000000\" fill-rule=\"evenodd\" fill-opacity=\"1\" /><path clip-path=\"url(#clip660)\" d=\"M2203.22 1454.1 Q2199.61 1454.1 2197.78 1457.66 Q2195.97 1461.2 2195.97 1468.33 Q2195.97 1475.44 2197.78 1479.01 Q2199.61 1482.55 2203.22 1482.55 Q2206.85 1482.55 2208.66 1479.01 Q2210.49 1475.44 2210.49 1468.33 Q2210.49 1461.2 2208.66 1457.66 Q2206.85 1454.1 2203.22 1454.1 M2203.22 1450.39 Q2209.03 1450.39 2212.08 1455 Q2215.16 1459.58 2215.16 1468.33 Q2215.16 1477.06 2212.08 1481.67 Q2209.03 1486.25 2203.22 1486.25 Q2197.41 1486.25 2194.33 1481.67 Q2191.27 1477.06 2191.27 1468.33 Q2191.27 1459.58 2194.33 1455 Q2197.41 1450.39 2203.22 1450.39 Z\" fill=\"#000000\" fill-rule=\"evenodd\" fill-opacity=\"1\" /><path clip-path=\"url(#clip660)\" d=\"M1224.65 1568.04 L1206.51 1520.52 L1213.22 1520.52 L1228.28 1560.53 L1243.36 1520.52 L1250.05 1520.52 L1231.94 1568.04 L1224.65 1568.04 Z\" fill=\"#000000\" fill-rule=\"evenodd\" fill-opacity=\"1\" /><path clip-path=\"url(#clip660)\" d=\"M1267.87 1550.12 Q1260.77 1550.12 1258.04 1551.75 Q1255.3 1553.37 1255.3 1557.29 Q1255.3 1560.4 1257.34 1562.25 Q1259.41 1564.07 1262.94 1564.07 Q1267.81 1564.07 1270.74 1560.63 Q1273.7 1557.16 1273.7 1551.43 L1273.7 1550.12 L1267.87 1550.12 M1279.55 1547.71 L1279.55 1568.04 L1273.7 1568.04 L1273.7 1562.63 Q1271.69 1565.88 1268.7 1567.44 Q1265.71 1568.97 1261.38 1568.97 Q1255.9 1568.97 1252.66 1565.91 Q1249.44 1562.82 1249.44 1557.67 Q1249.44 1551.65 1253.45 1548.6 Q1257.5 1545.54 1265.49 1545.54 L1273.7 1545.54 L1273.7 1544.97 Q1273.7 1540.93 1271.02 1538.73 Q1268.38 1536.5 1263.58 1536.5 Q1260.52 1536.5 1257.62 1537.23 Q1254.73 1537.97 1252.05 1539.43 L1252.05 1534.02 Q1255.27 1532.78 1258.29 1532.17 Q1261.32 1531.54 1264.18 1531.54 Q1271.91 1531.54 1275.73 1535.55 Q1279.55 1539.56 1279.55 1547.71 Z\" fill=\"#000000\" fill-rule=\"evenodd\" fill-opacity=\"1\" /><path clip-path=\"url(#clip660)\" d=\"M1291.62 1518.52 L1297.47 1518.52 L1297.47 1568.04 L1291.62 1568.04 L1291.62 1518.52 Z\" fill=\"#000000\" fill-rule=\"evenodd\" fill-opacity=\"1\" /><path clip-path=\"url(#clip660)\" d=\"M1309.12 1553.98 L1309.12 1532.4 L1314.98 1532.4 L1314.98 1553.75 Q1314.98 1558.81 1316.95 1561.36 Q1318.93 1563.87 1322.87 1563.87 Q1327.61 1563.87 1330.35 1560.85 Q1333.12 1557.83 1333.12 1552.61 L1333.12 1532.4 L1338.98 1532.4 L1338.98 1568.04 L1333.12 1568.04 L1333.12 1562.57 Q1330.99 1565.82 1328.16 1567.41 Q1325.35 1568.97 1321.63 1568.97 Q1315.49 1568.97 1312.3 1565.15 Q1309.12 1561.33 1309.12 1553.98 M1323.86 1531.54 L1323.86 1531.54 Z\" fill=\"#000000\" fill-rule=\"evenodd\" fill-opacity=\"1\" /><path clip-path=\"url(#clip660)\" d=\"M1381.53 1548.76 L1381.53 1551.62 L1354.6 1551.62 Q1354.99 1557.67 1358.23 1560.85 Q1361.51 1564 1367.34 1564 Q1370.71 1564 1373.86 1563.17 Q1377.04 1562.35 1380.16 1560.69 L1380.16 1566.23 Q1377.01 1567.57 1373.7 1568.27 Q1370.39 1568.97 1366.99 1568.97 Q1358.46 1568.97 1353.46 1564 Q1348.49 1559.04 1348.49 1550.57 Q1348.49 1541.82 1353.2 1536.69 Q1357.95 1531.54 1365.97 1531.54 Q1373.16 1531.54 1377.33 1536.18 Q1381.53 1540.8 1381.53 1548.76 M1375.68 1547.04 Q1375.61 1542.23 1372.97 1539.37 Q1370.36 1536.5 1366.03 1536.5 Q1361.13 1536.5 1358.17 1539.27 Q1355.24 1542.04 1354.8 1547.07 L1375.68 1547.04 Z\" fill=\"#000000\" fill-rule=\"evenodd\" fill-opacity=\"1\" /><polyline clip-path=\"url(#clip662)\" style=\"stroke:#000000; stroke-linecap:round; stroke-linejoin:round; stroke-width:2; stroke-opacity:0.1; fill:none\" points=\"235.283,1384.24 2352.76,1384.24 \"/>\n<polyline clip-path=\"url(#clip662)\" style=\"stroke:#000000; stroke-linecap:round; stroke-linejoin:round; stroke-width:2; stroke-opacity:0.1; fill:none\" points=\"235.283,1019.62 2352.76,1019.62 \"/>\n<polyline clip-path=\"url(#clip662)\" style=\"stroke:#000000; stroke-linecap:round; stroke-linejoin:round; stroke-width:2; stroke-opacity:0.1; fill:none\" points=\"235.283,654.995 2352.76,654.995 \"/>\n<polyline clip-path=\"url(#clip662)\" style=\"stroke:#000000; stroke-linecap:round; stroke-linejoin:round; stroke-width:2; stroke-opacity:0.1; fill:none\" points=\"235.283,290.374 2352.76,290.374 \"/>\n<polyline clip-path=\"url(#clip660)\" style=\"stroke:#000000; stroke-linecap:round; stroke-linejoin:round; stroke-width:4; stroke-opacity:1; fill:none\" points=\"235.283,1423.18 235.283,47.2441 \"/>\n<polyline clip-path=\"url(#clip660)\" style=\"stroke:#000000; stroke-linecap:round; stroke-linejoin:round; stroke-width:4; stroke-opacity:1; fill:none\" points=\"235.283,1384.24 254.18,1384.24 \"/>\n<polyline clip-path=\"url(#clip660)\" style=\"stroke:#000000; stroke-linecap:round; stroke-linejoin:round; stroke-width:4; stroke-opacity:1; fill:none\" points=\"235.283,1019.62 254.18,1019.62 \"/>\n<polyline clip-path=\"url(#clip660)\" style=\"stroke:#000000; stroke-linecap:round; stroke-linejoin:round; stroke-width:4; stroke-opacity:1; fill:none\" points=\"235.283,654.995 254.18,654.995 \"/>\n<polyline clip-path=\"url(#clip660)\" style=\"stroke:#000000; stroke-linecap:round; stroke-linejoin:round; stroke-width:4; stroke-opacity:1; fill:none\" points=\"235.283,290.374 254.18,290.374 \"/>\n<path clip-path=\"url(#clip660)\" d=\"M187.338 1370.04 Q183.727 1370.04 181.899 1373.6 Q180.093 1377.14 180.093 1384.27 Q180.093 1391.38 181.899 1394.94 Q183.727 1398.49 187.338 1398.49 Q190.973 1398.49 192.778 1394.94 Q194.607 1391.38 194.607 1384.27 Q194.607 1377.14 192.778 1373.6 Q190.973 1370.04 187.338 1370.04 M187.338 1366.33 Q193.149 1366.33 196.204 1370.94 Q199.283 1375.52 199.283 1384.27 Q199.283 1393 196.204 1397.61 Q193.149 1402.19 187.338 1402.19 Q181.528 1402.19 178.45 1397.61 Q175.394 1393 175.394 1384.27 Q175.394 1375.52 178.45 1370.94 Q181.528 1366.33 187.338 1366.33 Z\" fill=\"#000000\" fill-rule=\"evenodd\" fill-opacity=\"1\" /><path clip-path=\"url(#clip660)\" d=\"M121.043 1032.96 L137.362 1032.96 L137.362 1036.9 L115.418 1036.9 L115.418 1032.96 Q118.08 1030.21 122.663 1025.58 Q127.269 1020.92 128.45 1019.58 Q130.695 1017.06 131.575 1015.32 Q132.478 1013.56 132.478 1011.87 Q132.478 1009.12 130.533 1007.38 Q128.612 1005.65 125.51 1005.65 Q123.311 1005.65 120.857 1006.41 Q118.427 1007.17 115.649 1008.73 L115.649 1004 Q118.473 1002.87 120.927 1002.29 Q123.38 1001.71 125.418 1001.71 Q130.788 1001.71 133.982 1004.4 Q137.177 1007.08 137.177 1011.57 Q137.177 1013.7 136.367 1015.62 Q135.579 1017.52 133.473 1020.11 Q132.894 1020.79 129.792 1024 Q126.691 1027.2 121.043 1032.96 Z\" fill=\"#000000\" fill-rule=\"evenodd\" fill-opacity=\"1\" /><path clip-path=\"url(#clip660)\" d=\"M157.177 1005.42 Q153.566 1005.42 151.737 1008.98 Q149.931 1012.52 149.931 1019.65 Q149.931 1026.76 151.737 1030.32 Q153.566 1033.86 157.177 1033.86 Q160.811 1033.86 162.616 1030.32 Q164.445 1026.76 164.445 1019.65 Q164.445 1012.52 162.616 1008.98 Q160.811 1005.42 157.177 1005.42 M157.177 1001.71 Q162.987 1001.71 166.042 1006.32 Q169.121 1010.9 169.121 1019.65 Q169.121 1028.38 166.042 1032.98 Q162.987 1037.57 157.177 1037.57 Q151.366 1037.57 148.288 1032.98 Q145.232 1028.38 145.232 1019.65 Q145.232 1010.9 148.288 1006.32 Q151.366 1001.71 157.177 1001.71 Z\" fill=\"#000000\" fill-rule=\"evenodd\" fill-opacity=\"1\" /><path clip-path=\"url(#clip660)\" d=\"M187.338 1005.42 Q183.727 1005.42 181.899 1008.98 Q180.093 1012.52 180.093 1019.65 Q180.093 1026.76 181.899 1030.32 Q183.727 1033.86 187.338 1033.86 Q190.973 1033.86 192.778 1030.32 Q194.607 1026.76 194.607 1019.65 Q194.607 1012.52 192.778 1008.98 Q190.973 1005.42 187.338 1005.42 M187.338 1001.71 Q193.149 1001.71 196.204 1006.32 Q199.283 1010.9 199.283 1019.65 Q199.283 1028.38 196.204 1032.98 Q193.149 1037.57 187.338 1037.57 Q181.528 1037.57 178.45 1032.98 Q175.394 1028.38 175.394 1019.65 Q175.394 1010.9 178.45 1006.32 Q181.528 1001.71 187.338 1001.71 Z\" fill=\"#000000\" fill-rule=\"evenodd\" fill-opacity=\"1\" /><path clip-path=\"url(#clip660)\" d=\"M129.862 641.789 L118.056 660.238 L129.862 660.238 L129.862 641.789 M128.635 637.715 L134.515 637.715 L134.515 660.238 L139.445 660.238 L139.445 664.127 L134.515 664.127 L134.515 672.275 L129.862 672.275 L129.862 664.127 L114.26 664.127 L114.26 659.613 L128.635 637.715 Z\" fill=\"#000000\" fill-rule=\"evenodd\" fill-opacity=\"1\" /><path clip-path=\"url(#clip660)\" d=\"M157.177 640.794 Q153.566 640.794 151.737 644.359 Q149.931 647.9 149.931 655.03 Q149.931 662.136 151.737 665.701 Q153.566 669.243 157.177 669.243 Q160.811 669.243 162.616 665.701 Q164.445 662.136 164.445 655.03 Q164.445 647.9 162.616 644.359 Q160.811 640.794 157.177 640.794 M157.177 637.09 Q162.987 637.09 166.042 641.697 Q169.121 646.28 169.121 655.03 Q169.121 663.757 166.042 668.363 Q162.987 672.947 157.177 672.947 Q151.366 672.947 148.288 668.363 Q145.232 663.757 145.232 655.03 Q145.232 646.28 148.288 641.697 Q151.366 637.09 157.177 637.09 Z\" fill=\"#000000\" fill-rule=\"evenodd\" fill-opacity=\"1\" /><path clip-path=\"url(#clip660)\" d=\"M187.338 640.794 Q183.727 640.794 181.899 644.359 Q180.093 647.9 180.093 655.03 Q180.093 662.136 181.899 665.701 Q183.727 669.243 187.338 669.243 Q190.973 669.243 192.778 665.701 Q194.607 662.136 194.607 655.03 Q194.607 647.9 192.778 644.359 Q190.973 640.794 187.338 640.794 M187.338 637.09 Q193.149 637.09 196.204 641.697 Q199.283 646.28 199.283 655.03 Q199.283 663.757 196.204 668.363 Q193.149 672.947 187.338 672.947 Q181.528 672.947 178.45 668.363 Q175.394 663.757 175.394 655.03 Q175.394 646.28 178.45 641.697 Q181.528 637.09 187.338 637.09 Z\" fill=\"#000000\" fill-rule=\"evenodd\" fill-opacity=\"1\" /><path clip-path=\"url(#clip660)\" d=\"M127.593 288.51 Q124.445 288.51 122.593 290.663 Q120.765 292.816 120.765 296.566 Q120.765 300.293 122.593 302.469 Q124.445 304.621 127.593 304.621 Q130.742 304.621 132.57 302.469 Q134.422 300.293 134.422 296.566 Q134.422 292.816 132.57 290.663 Q130.742 288.51 127.593 288.51 M136.876 273.858 L136.876 278.117 Q135.117 277.284 133.311 276.844 Q131.529 276.404 129.769 276.404 Q125.14 276.404 122.686 279.529 Q120.255 282.654 119.908 288.973 Q121.274 286.959 123.334 285.895 Q125.394 284.807 127.871 284.807 Q133.08 284.807 136.089 287.978 Q139.121 291.126 139.121 296.566 Q139.121 301.89 135.973 305.107 Q132.825 308.325 127.593 308.325 Q121.598 308.325 118.427 303.742 Q115.256 299.135 115.256 290.408 Q115.256 282.214 119.144 277.353 Q123.033 272.469 129.584 272.469 Q131.343 272.469 133.126 272.816 Q134.931 273.163 136.876 273.858 Z\" fill=\"#000000\" fill-rule=\"evenodd\" fill-opacity=\"1\" /><path clip-path=\"url(#clip660)\" d=\"M157.177 276.172 Q153.566 276.172 151.737 279.737 Q149.931 283.279 149.931 290.408 Q149.931 297.515 151.737 301.08 Q153.566 304.621 157.177 304.621 Q160.811 304.621 162.616 301.08 Q164.445 297.515 164.445 290.408 Q164.445 283.279 162.616 279.737 Q160.811 276.172 157.177 276.172 M157.177 272.469 Q162.987 272.469 166.042 277.075 Q169.121 281.658 169.121 290.408 Q169.121 299.135 166.042 303.742 Q162.987 308.325 157.177 308.325 Q151.366 308.325 148.288 303.742 Q145.232 299.135 145.232 290.408 Q145.232 281.658 148.288 277.075 Q151.366 272.469 157.177 272.469 Z\" fill=\"#000000\" fill-rule=\"evenodd\" fill-opacity=\"1\" /><path clip-path=\"url(#clip660)\" d=\"M187.338 276.172 Q183.727 276.172 181.899 279.737 Q180.093 283.279 180.093 290.408 Q180.093 297.515 181.899 301.08 Q183.727 304.621 187.338 304.621 Q190.973 304.621 192.778 301.08 Q194.607 297.515 194.607 290.408 Q194.607 283.279 192.778 279.737 Q190.973 276.172 187.338 276.172 M187.338 272.469 Q193.149 272.469 196.204 277.075 Q199.283 281.658 199.283 290.408 Q199.283 299.135 196.204 303.742 Q193.149 308.325 187.338 308.325 Q181.528 308.325 178.45 303.742 Q175.394 299.135 175.394 290.408 Q175.394 281.658 178.45 277.075 Q181.528 272.469 187.338 272.469 Z\" fill=\"#000000\" fill-rule=\"evenodd\" fill-opacity=\"1\" /><path clip-path=\"url(#clip660)\" d=\"M20.1444 791.071 L26.9239 791.071 Q23.9002 794.318 22.4043 798.01 Q20.9083 801.67 20.9083 805.808 Q20.9083 813.956 25.9054 818.284 Q30.8707 822.613 40.2919 822.613 Q49.6813 822.613 54.6784 818.284 Q59.6436 813.956 59.6436 805.808 Q59.6436 801.67 58.1477 798.01 Q56.6518 794.318 53.6281 791.071 L60.3439 791.071 Q62.6355 794.445 63.7814 798.232 Q64.9272 801.988 64.9272 806.19 Q64.9272 816.979 58.3387 823.186 Q51.7183 829.393 40.2919 829.393 Q28.8336 829.393 22.2451 823.186 Q15.6248 816.979 15.6248 806.19 Q15.6248 801.925 16.7706 798.169 Q17.8846 794.381 20.1444 791.071 Z\" fill=\"#000000\" fill-rule=\"evenodd\" fill-opacity=\"1\" /><path clip-path=\"url(#clip660)\" d=\"M32.4621 767.582 Q32.4621 772.292 36.1542 775.029 Q39.8145 777.767 46.212 777.767 Q52.6095 777.767 56.3017 775.061 Q59.9619 772.324 59.9619 767.582 Q59.9619 762.903 56.2698 760.166 Q52.5777 757.428 46.212 757.428 Q39.8781 757.428 36.186 760.166 Q32.4621 762.903 32.4621 767.582 M27.4968 767.582 Q27.4968 759.943 32.4621 755.582 Q37.4273 751.222 46.212 751.222 Q54.9649 751.222 59.9619 755.582 Q64.9272 759.943 64.9272 767.582 Q64.9272 775.252 59.9619 779.613 Q54.9649 783.941 46.212 783.941 Q37.4273 783.941 32.4621 779.613 Q27.4968 775.252 27.4968 767.582 Z\" fill=\"#000000\" fill-rule=\"evenodd\" fill-opacity=\"1\" /><path clip-path=\"url(#clip660)\" d=\"M49.9359 742.119 L28.3562 742.119 L28.3562 736.262 L49.7131 736.262 Q54.7739 736.262 57.3202 734.289 Q59.8346 732.316 59.8346 728.369 Q59.8346 723.626 56.8109 720.889 Q53.7872 718.12 48.5673 718.12 L28.3562 718.12 L28.3562 712.264 L64.0042 712.264 L64.0042 718.12 L58.5296 718.12 Q61.7762 720.253 63.3676 723.085 Q64.9272 725.886 64.9272 729.61 Q64.9272 735.753 61.1078 738.936 Q57.2883 742.119 49.9359 742.119 M27.4968 727.382 L27.4968 727.382 Z\" fill=\"#000000\" fill-rule=\"evenodd\" fill-opacity=\"1\" /><path clip-path=\"url(#clip660)\" d=\"M42.4881 670.568 L64.0042 670.568 L64.0042 676.425 L42.679 676.425 Q37.6183 676.425 35.1038 678.398 Q32.5894 680.371 32.5894 684.318 Q32.5894 689.061 35.6131 691.798 Q38.6368 694.535 43.8567 694.535 L64.0042 694.535 L64.0042 700.423 L28.3562 700.423 L28.3562 694.535 L33.8944 694.535 Q30.6797 692.434 29.0883 689.602 Q27.4968 686.737 27.4968 683.013 Q27.4968 676.87 31.3163 673.719 Q35.1038 670.568 42.4881 670.568 Z\" fill=\"#000000\" fill-rule=\"evenodd\" fill-opacity=\"1\" /><path clip-path=\"url(#clip660)\" d=\"M18.2347 653.094 L28.3562 653.094 L28.3562 641.031 L32.9077 641.031 L32.9077 653.094 L52.2594 653.094 Q56.6199 653.094 57.8613 651.917 Q59.1026 650.707 59.1026 647.047 L59.1026 641.031 L64.0042 641.031 L64.0042 647.047 Q64.0042 653.826 61.4897 656.405 Q58.9434 658.983 52.2594 658.983 L32.9077 658.983 L32.9077 663.279 L28.3562 663.279 L28.3562 658.983 L18.2347 658.983 L18.2347 653.094 Z\" fill=\"#000000\" fill-rule=\"evenodd\" fill-opacity=\"1\" /><path clip-path=\"url(#clip662)\" d=\"M351.748 1378.77 L351.748 1384.24 L398.861 1384.24 L398.861 1378.77 L351.748 1378.77 L351.748 1378.77  Z\" fill=\"#009af9\" fill-rule=\"evenodd\" fill-opacity=\"1\"/>\n<polyline clip-path=\"url(#clip662)\" style=\"stroke:#000000; stroke-linecap:round; stroke-linejoin:round; stroke-width:4; stroke-opacity:1; fill:none\" points=\"351.748,1378.77 351.748,1384.24 398.861,1384.24 398.861,1378.77 351.748,1378.77 \"/>\n<path clip-path=\"url(#clip662)\" d=\"M398.861 1371.48 L398.861 1384.24 L445.975 1384.24 L445.975 1371.48 L398.861 1371.48 L398.861 1371.48  Z\" fill=\"#009af9\" fill-rule=\"evenodd\" fill-opacity=\"1\"/>\n<polyline clip-path=\"url(#clip662)\" style=\"stroke:#000000; stroke-linecap:round; stroke-linejoin:round; stroke-width:4; stroke-opacity:1; fill:none\" points=\"398.861,1371.48 398.861,1384.24 445.975,1384.24 445.975,1371.48 398.861,1371.48 \"/>\n<path clip-path=\"url(#clip662)\" d=\"M445.975 1364.18 L445.975 1384.24 L493.088 1384.24 L493.088 1364.18 L445.975 1364.18 L445.975 1364.18  Z\" fill=\"#009af9\" fill-rule=\"evenodd\" fill-opacity=\"1\"/>\n<polyline clip-path=\"url(#clip662)\" style=\"stroke:#000000; stroke-linecap:round; stroke-linejoin:round; stroke-width:4; stroke-opacity:1; fill:none\" points=\"445.975,1364.18 445.975,1384.24 493.088,1384.24 493.088,1364.18 445.975,1364.18 \"/>\n<path clip-path=\"url(#clip662)\" d=\"M493.088 1366.01 L493.088 1384.24 L540.202 1384.24 L540.202 1366.01 L493.088 1366.01 L493.088 1366.01  Z\" fill=\"#009af9\" fill-rule=\"evenodd\" fill-opacity=\"1\"/>\n<polyline clip-path=\"url(#clip662)\" style=\"stroke:#000000; stroke-linecap:round; stroke-linejoin:round; stroke-width:4; stroke-opacity:1; fill:none\" points=\"493.088,1366.01 493.088,1384.24 540.202,1384.24 540.202,1366.01 493.088,1366.01 \"/>\n<path clip-path=\"url(#clip662)\" d=\"M540.202 1338.66 L540.202 1384.24 L587.316 1384.24 L587.316 1338.66 L540.202 1338.66 L540.202 1338.66  Z\" fill=\"#009af9\" fill-rule=\"evenodd\" fill-opacity=\"1\"/>\n<polyline clip-path=\"url(#clip662)\" style=\"stroke:#000000; stroke-linecap:round; stroke-linejoin:round; stroke-width:4; stroke-opacity:1; fill:none\" points=\"540.202,1338.66 540.202,1384.24 587.316,1384.24 587.316,1338.66 540.202,1338.66 \"/>\n<path clip-path=\"url(#clip662)\" d=\"M587.316 1309.49 L587.316 1384.24 L634.429 1384.24 L634.429 1309.49 L587.316 1309.49 L587.316 1309.49  Z\" fill=\"#009af9\" fill-rule=\"evenodd\" fill-opacity=\"1\"/>\n<polyline clip-path=\"url(#clip662)\" style=\"stroke:#000000; stroke-linecap:round; stroke-linejoin:round; stroke-width:4; stroke-opacity:1; fill:none\" points=\"587.316,1309.49 587.316,1384.24 634.429,1384.24 634.429,1309.49 587.316,1309.49 \"/>\n<path clip-path=\"url(#clip662)\" d=\"M634.429 1285.79 L634.429 1384.24 L681.543 1384.24 L681.543 1285.79 L634.429 1285.79 L634.429 1285.79  Z\" fill=\"#009af9\" fill-rule=\"evenodd\" fill-opacity=\"1\"/>\n<polyline clip-path=\"url(#clip662)\" style=\"stroke:#000000; stroke-linecap:round; stroke-linejoin:round; stroke-width:4; stroke-opacity:1; fill:none\" points=\"634.429,1285.79 634.429,1384.24 681.543,1384.24 681.543,1285.79 634.429,1285.79 \"/>\n<path clip-path=\"url(#clip662)\" d=\"M681.543 1212.87 L681.543 1384.24 L728.656 1384.24 L728.656 1212.87 L681.543 1212.87 L681.543 1212.87  Z\" fill=\"#009af9\" fill-rule=\"evenodd\" fill-opacity=\"1\"/>\n<polyline clip-path=\"url(#clip662)\" style=\"stroke:#000000; stroke-linecap:round; stroke-linejoin:round; stroke-width:4; stroke-opacity:1; fill:none\" points=\"681.543,1212.87 681.543,1384.24 728.656,1384.24 728.656,1212.87 681.543,1212.87 \"/>\n<path clip-path=\"url(#clip662)\" d=\"M728.656 1163.64 L728.656 1384.24 L775.77 1384.24 L775.77 1163.64 L728.656 1163.64 L728.656 1163.64  Z\" fill=\"#009af9\" fill-rule=\"evenodd\" fill-opacity=\"1\"/>\n<polyline clip-path=\"url(#clip662)\" style=\"stroke:#000000; stroke-linecap:round; stroke-linejoin:round; stroke-width:4; stroke-opacity:1; fill:none\" points=\"728.656,1163.64 728.656,1384.24 775.77,1384.24 775.77,1163.64 728.656,1163.64 \"/>\n<path clip-path=\"url(#clip662)\" d=\"M775.77 1098.01 L775.77 1384.24 L822.884 1384.24 L822.884 1098.01 L775.77 1098.01 L775.77 1098.01  Z\" fill=\"#009af9\" fill-rule=\"evenodd\" fill-opacity=\"1\"/>\n<polyline clip-path=\"url(#clip662)\" style=\"stroke:#000000; stroke-linecap:round; stroke-linejoin:round; stroke-width:4; stroke-opacity:1; fill:none\" points=\"775.77,1098.01 775.77,1384.24 822.884,1384.24 822.884,1098.01 775.77,1098.01 \"/>\n<path clip-path=\"url(#clip662)\" d=\"M822.884 992.27 L822.884 1384.24 L869.997 1384.24 L869.997 992.27 L822.884 992.27 L822.884 992.27  Z\" fill=\"#009af9\" fill-rule=\"evenodd\" fill-opacity=\"1\"/>\n<polyline clip-path=\"url(#clip662)\" style=\"stroke:#000000; stroke-linecap:round; stroke-linejoin:round; stroke-width:4; stroke-opacity:1; fill:none\" points=\"822.884,992.27 822.884,1384.24 869.997,1384.24 869.997,992.27 822.884,992.27 \"/>\n<path clip-path=\"url(#clip662)\" d=\"M869.997 870.122 L869.997 1384.24 L917.111 1384.24 L917.111 870.122 L869.997 870.122 L869.997 870.122  Z\" fill=\"#009af9\" fill-rule=\"evenodd\" fill-opacity=\"1\"/>\n<polyline clip-path=\"url(#clip662)\" style=\"stroke:#000000; stroke-linecap:round; stroke-linejoin:round; stroke-width:4; stroke-opacity:1; fill:none\" points=\"869.997,870.122 869.997,1384.24 917.111,1384.24 917.111,870.122 869.997,870.122 \"/>\n<path clip-path=\"url(#clip662)\" d=\"M917.111 749.797 L917.111 1384.24 L964.224 1384.24 L964.224 749.797 L917.111 749.797 L917.111 749.797  Z\" fill=\"#009af9\" fill-rule=\"evenodd\" fill-opacity=\"1\"/>\n<polyline clip-path=\"url(#clip662)\" style=\"stroke:#000000; stroke-linecap:round; stroke-linejoin:round; stroke-width:4; stroke-opacity:1; fill:none\" points=\"917.111,749.797 917.111,1384.24 964.224,1384.24 964.224,749.797 917.111,749.797 \"/>\n<path clip-path=\"url(#clip662)\" d=\"M964.224 598.479 L964.224 1384.24 L1011.34 1384.24 L1011.34 598.479 L964.224 598.479 L964.224 598.479  Z\" fill=\"#009af9\" fill-rule=\"evenodd\" fill-opacity=\"1\"/>\n<polyline clip-path=\"url(#clip662)\" style=\"stroke:#000000; stroke-linecap:round; stroke-linejoin:round; stroke-width:4; stroke-opacity:1; fill:none\" points=\"964.224,598.479 964.224,1384.24 1011.34,1384.24 1011.34,598.479 964.224,598.479 \"/>\n<path clip-path=\"url(#clip662)\" d=\"M1011.34 461.746 L1011.34 1384.24 L1058.45 1384.24 L1058.45 461.746 L1011.34 461.746 L1011.34 461.746  Z\" fill=\"#009af9\" fill-rule=\"evenodd\" fill-opacity=\"1\"/>\n<polyline clip-path=\"url(#clip662)\" style=\"stroke:#000000; stroke-linecap:round; stroke-linejoin:round; stroke-width:4; stroke-opacity:1; fill:none\" points=\"1011.34,461.746 1011.34,1384.24 1058.45,1384.24 1058.45,461.746 1011.34,461.746 \"/>\n<path clip-path=\"url(#clip662)\" d=\"M1058.45 279.435 L1058.45 1384.24 L1105.57 1384.24 L1105.57 279.435 L1058.45 279.435 L1058.45 279.435  Z\" fill=\"#009af9\" fill-rule=\"evenodd\" fill-opacity=\"1\"/>\n<polyline clip-path=\"url(#clip662)\" style=\"stroke:#000000; stroke-linecap:round; stroke-linejoin:round; stroke-width:4; stroke-opacity:1; fill:none\" points=\"1058.45,279.435 1058.45,1384.24 1105.57,1384.24 1105.57,279.435 1058.45,279.435 \"/>\n<path clip-path=\"url(#clip662)\" d=\"M1105.57 257.558 L1105.57 1384.24 L1152.68 1384.24 L1152.68 257.558 L1105.57 257.558 L1105.57 257.558  Z\" fill=\"#009af9\" fill-rule=\"evenodd\" fill-opacity=\"1\"/>\n<polyline clip-path=\"url(#clip662)\" style=\"stroke:#000000; stroke-linecap:round; stroke-linejoin:round; stroke-width:4; stroke-opacity:1; fill:none\" points=\"1105.57,257.558 1105.57,1384.24 1152.68,1384.24 1152.68,257.558 1105.57,257.558 \"/>\n<path clip-path=\"url(#clip662)\" d=\"M1152.68 146.348 L1152.68 1384.24 L1199.79 1384.24 L1199.79 146.348 L1152.68 146.348 L1152.68 146.348  Z\" fill=\"#009af9\" fill-rule=\"evenodd\" fill-opacity=\"1\"/>\n<polyline clip-path=\"url(#clip662)\" style=\"stroke:#000000; stroke-linecap:round; stroke-linejoin:round; stroke-width:4; stroke-opacity:1; fill:none\" points=\"1152.68,146.348 1152.68,1384.24 1199.79,1384.24 1199.79,146.348 1152.68,146.348 \"/>\n<path clip-path=\"url(#clip662)\" d=\"M1199.79 166.402 L1199.79 1384.24 L1246.91 1384.24 L1246.91 166.402 L1199.79 166.402 L1199.79 166.402  Z\" fill=\"#009af9\" fill-rule=\"evenodd\" fill-opacity=\"1\"/>\n<polyline clip-path=\"url(#clip662)\" style=\"stroke:#000000; stroke-linecap:round; stroke-linejoin:round; stroke-width:4; stroke-opacity:1; fill:none\" points=\"1199.79,166.402 1199.79,1384.24 1246.91,1384.24 1246.91,166.402 1199.79,166.402 \"/>\n<path clip-path=\"url(#clip662)\" d=\"M1246.91 159.11 L1246.91 1384.24 L1294.02 1384.24 L1294.02 159.11 L1246.91 159.11 L1246.91 159.11  Z\" fill=\"#009af9\" fill-rule=\"evenodd\" fill-opacity=\"1\"/>\n<polyline clip-path=\"url(#clip662)\" style=\"stroke:#000000; stroke-linecap:round; stroke-linejoin:round; stroke-width:4; stroke-opacity:1; fill:none\" points=\"1246.91,159.11 1246.91,1384.24 1294.02,1384.24 1294.02,159.11 1246.91,159.11 \"/>\n<path clip-path=\"url(#clip662)\" d=\"M1294.02 86.1857 L1294.02 1384.24 L1341.13 1384.24 L1341.13 86.1857 L1294.02 86.1857 L1294.02 86.1857  Z\" fill=\"#009af9\" fill-rule=\"evenodd\" fill-opacity=\"1\"/>\n<polyline clip-path=\"url(#clip662)\" style=\"stroke:#000000; stroke-linecap:round; stroke-linejoin:round; stroke-width:4; stroke-opacity:1; fill:none\" points=\"1294.02,86.1857 1294.02,1384.24 1341.13,1384.24 1341.13,86.1857 1294.02,86.1857 \"/>\n<path clip-path=\"url(#clip662)\" d=\"M1341.13 193.749 L1341.13 1384.24 L1388.25 1384.24 L1388.25 193.749 L1341.13 193.749 L1341.13 193.749  Z\" fill=\"#009af9\" fill-rule=\"evenodd\" fill-opacity=\"1\"/>\n<polyline clip-path=\"url(#clip662)\" style=\"stroke:#000000; stroke-linecap:round; stroke-linejoin:round; stroke-width:4; stroke-opacity:1; fill:none\" points=\"1341.13,193.749 1341.13,1384.24 1388.25,1384.24 1388.25,193.749 1341.13,193.749 \"/>\n<path clip-path=\"url(#clip662)\" d=\"M1388.25 244.796 L1388.25 1384.24 L1435.36 1384.24 L1435.36 244.796 L1388.25 244.796 L1388.25 244.796  Z\" fill=\"#009af9\" fill-rule=\"evenodd\" fill-opacity=\"1\"/>\n<polyline clip-path=\"url(#clip662)\" style=\"stroke:#000000; stroke-linecap:round; stroke-linejoin:round; stroke-width:4; stroke-opacity:1; fill:none\" points=\"1388.25,244.796 1388.25,1384.24 1435.36,1384.24 1435.36,244.796 1388.25,244.796 \"/>\n<path clip-path=\"url(#clip662)\" d=\"M1435.36 412.522 L1435.36 1384.24 L1482.47 1384.24 L1482.47 412.522 L1435.36 412.522 L1435.36 412.522  Z\" fill=\"#009af9\" fill-rule=\"evenodd\" fill-opacity=\"1\"/>\n<polyline clip-path=\"url(#clip662)\" style=\"stroke:#000000; stroke-linecap:round; stroke-linejoin:round; stroke-width:4; stroke-opacity:1; fill:none\" points=\"1435.36,412.522 1435.36,1384.24 1482.47,1384.24 1482.47,412.522 1435.36,412.522 \"/>\n<path clip-path=\"url(#clip662)\" d=\"M1482.47 547.432 L1482.47 1384.24 L1529.59 1384.24 L1529.59 547.432 L1482.47 547.432 L1482.47 547.432  Z\" fill=\"#009af9\" fill-rule=\"evenodd\" fill-opacity=\"1\"/>\n<polyline clip-path=\"url(#clip662)\" style=\"stroke:#000000; stroke-linecap:round; stroke-linejoin:round; stroke-width:4; stroke-opacity:1; fill:none\" points=\"1482.47,547.432 1482.47,1384.24 1529.59,1384.24 1529.59,547.432 1482.47,547.432 \"/>\n<path clip-path=\"url(#clip662)\" d=\"M1529.59 716.981 L1529.59 1384.24 L1576.7 1384.24 L1576.7 716.981 L1529.59 716.981 L1529.59 716.981  Z\" fill=\"#009af9\" fill-rule=\"evenodd\" fill-opacity=\"1\"/>\n<polyline clip-path=\"url(#clip662)\" style=\"stroke:#000000; stroke-linecap:round; stroke-linejoin:round; stroke-width:4; stroke-opacity:1; fill:none\" points=\"1529.59,716.981 1529.59,1384.24 1576.7,1384.24 1576.7,716.981 1529.59,716.981 \"/>\n<path clip-path=\"url(#clip662)\" d=\"M1576.7 830.014 L1576.7 1384.24 L1623.81 1384.24 L1623.81 830.014 L1576.7 830.014 L1576.7 830.014  Z\" fill=\"#009af9\" fill-rule=\"evenodd\" fill-opacity=\"1\"/>\n<polyline clip-path=\"url(#clip662)\" style=\"stroke:#000000; stroke-linecap:round; stroke-linejoin:round; stroke-width:4; stroke-opacity:1; fill:none\" points=\"1576.7,830.014 1576.7,1384.24 1623.81,1384.24 1623.81,830.014 1576.7,830.014 \"/>\n<path clip-path=\"url(#clip662)\" d=\"M1623.81 977.685 L1623.81 1384.24 L1670.93 1384.24 L1670.93 977.685 L1623.81 977.685 L1623.81 977.685  Z\" fill=\"#009af9\" fill-rule=\"evenodd\" fill-opacity=\"1\"/>\n<polyline clip-path=\"url(#clip662)\" style=\"stroke:#000000; stroke-linecap:round; stroke-linejoin:round; stroke-width:4; stroke-opacity:1; fill:none\" points=\"1623.81,977.685 1623.81,1384.24 1670.93,1384.24 1670.93,977.685 1623.81,977.685 \"/>\n<path clip-path=\"url(#clip662)\" d=\"M1670.93 1048.79 L1670.93 1384.24 L1718.04 1384.24 L1718.04 1048.79 L1670.93 1048.79 L1670.93 1048.79  Z\" fill=\"#009af9\" fill-rule=\"evenodd\" fill-opacity=\"1\"/>\n<polyline clip-path=\"url(#clip662)\" style=\"stroke:#000000; stroke-linecap:round; stroke-linejoin:round; stroke-width:4; stroke-opacity:1; fill:none\" points=\"1670.93,1048.79 1670.93,1384.24 1718.04,1384.24 1718.04,1048.79 1670.93,1048.79 \"/>\n<path clip-path=\"url(#clip662)\" d=\"M1718.04 1149.06 L1718.04 1384.24 L1765.16 1384.24 L1765.16 1149.06 L1718.04 1149.06 L1718.04 1149.06  Z\" fill=\"#009af9\" fill-rule=\"evenodd\" fill-opacity=\"1\"/>\n<polyline clip-path=\"url(#clip662)\" style=\"stroke:#000000; stroke-linecap:round; stroke-linejoin:round; stroke-width:4; stroke-opacity:1; fill:none\" points=\"1718.04,1149.06 1718.04,1384.24 1765.16,1384.24 1765.16,1149.06 1718.04,1149.06 \"/>\n<path clip-path=\"url(#clip662)\" d=\"M1765.16 1231.1 L1765.16 1384.24 L1812.27 1384.24 L1812.27 1231.1 L1765.16 1231.1 L1765.16 1231.1  Z\" fill=\"#009af9\" fill-rule=\"evenodd\" fill-opacity=\"1\"/>\n<polyline clip-path=\"url(#clip662)\" style=\"stroke:#000000; stroke-linecap:round; stroke-linejoin:round; stroke-width:4; stroke-opacity:1; fill:none\" points=\"1765.16,1231.1 1765.16,1384.24 1812.27,1384.24 1812.27,1231.1 1765.16,1231.1 \"/>\n<path clip-path=\"url(#clip662)\" d=\"M1812.27 1273.03 L1812.27 1384.24 L1859.38 1384.24 L1859.38 1273.03 L1812.27 1273.03 L1812.27 1273.03  Z\" fill=\"#009af9\" fill-rule=\"evenodd\" fill-opacity=\"1\"/>\n<polyline clip-path=\"url(#clip662)\" style=\"stroke:#000000; stroke-linecap:round; stroke-linejoin:round; stroke-width:4; stroke-opacity:1; fill:none\" points=\"1812.27,1273.03 1812.27,1384.24 1859.38,1384.24 1859.38,1273.03 1812.27,1273.03 \"/>\n<path clip-path=\"url(#clip662)\" d=\"M1859.38 1304.02 L1859.38 1384.24 L1906.5 1384.24 L1906.5 1304.02 L1859.38 1304.02 L1859.38 1304.02  Z\" fill=\"#009af9\" fill-rule=\"evenodd\" fill-opacity=\"1\"/>\n<polyline clip-path=\"url(#clip662)\" style=\"stroke:#000000; stroke-linecap:round; stroke-linejoin:round; stroke-width:4; stroke-opacity:1; fill:none\" points=\"1859.38,1304.02 1859.38,1384.24 1906.5,1384.24 1906.5,1304.02 1859.38,1304.02 \"/>\n<path clip-path=\"url(#clip662)\" d=\"M1906.5 1329.55 L1906.5 1384.24 L1953.61 1384.24 L1953.61 1329.55 L1906.5 1329.55 L1906.5 1329.55  Z\" fill=\"#009af9\" fill-rule=\"evenodd\" fill-opacity=\"1\"/>\n<polyline clip-path=\"url(#clip662)\" style=\"stroke:#000000; stroke-linecap:round; stroke-linejoin:round; stroke-width:4; stroke-opacity:1; fill:none\" points=\"1906.5,1329.55 1906.5,1384.24 1953.61,1384.24 1953.61,1329.55 1906.5,1329.55 \"/>\n<path clip-path=\"url(#clip662)\" d=\"M1953.61 1347.78 L1953.61 1384.24 L2000.72 1384.24 L2000.72 1347.78 L1953.61 1347.78 L1953.61 1347.78  Z\" fill=\"#009af9\" fill-rule=\"evenodd\" fill-opacity=\"1\"/>\n<polyline clip-path=\"url(#clip662)\" style=\"stroke:#000000; stroke-linecap:round; stroke-linejoin:round; stroke-width:4; stroke-opacity:1; fill:none\" points=\"1953.61,1347.78 1953.61,1384.24 2000.72,1384.24 2000.72,1347.78 1953.61,1347.78 \"/>\n<path clip-path=\"url(#clip662)\" d=\"M2000.72 1367.83 L2000.72 1384.24 L2047.84 1384.24 L2047.84 1367.83 L2000.72 1367.83 L2000.72 1367.83  Z\" fill=\"#009af9\" fill-rule=\"evenodd\" fill-opacity=\"1\"/>\n<polyline clip-path=\"url(#clip662)\" style=\"stroke:#000000; stroke-linecap:round; stroke-linejoin:round; stroke-width:4; stroke-opacity:1; fill:none\" points=\"2000.72,1367.83 2000.72,1384.24 2047.84,1384.24 2047.84,1367.83 2000.72,1367.83 \"/>\n<path clip-path=\"url(#clip662)\" d=\"M2047.84 1367.83 L2047.84 1384.24 L2094.95 1384.24 L2094.95 1367.83 L2047.84 1367.83 L2047.84 1367.83  Z\" fill=\"#009af9\" fill-rule=\"evenodd\" fill-opacity=\"1\"/>\n<polyline clip-path=\"url(#clip662)\" style=\"stroke:#000000; stroke-linecap:round; stroke-linejoin:round; stroke-width:4; stroke-opacity:1; fill:none\" points=\"2047.84,1367.83 2047.84,1384.24 2094.95,1384.24 2094.95,1367.83 2047.84,1367.83 \"/>\n<path clip-path=\"url(#clip662)\" d=\"M2094.95 1380.59 L2094.95 1384.24 L2142.06 1384.24 L2142.06 1380.59 L2094.95 1380.59 L2094.95 1380.59  Z\" fill=\"#009af9\" fill-rule=\"evenodd\" fill-opacity=\"1\"/>\n<polyline clip-path=\"url(#clip662)\" style=\"stroke:#000000; stroke-linecap:round; stroke-linejoin:round; stroke-width:4; stroke-opacity:1; fill:none\" points=\"2094.95,1380.59 2094.95,1384.24 2142.06,1384.24 2142.06,1380.59 2094.95,1380.59 \"/>\n<path clip-path=\"url(#clip662)\" d=\"M2142.06 1376.95 L2142.06 1384.24 L2189.18 1384.24 L2189.18 1376.95 L2142.06 1376.95 L2142.06 1376.95  Z\" fill=\"#009af9\" fill-rule=\"evenodd\" fill-opacity=\"1\"/>\n<polyline clip-path=\"url(#clip662)\" style=\"stroke:#000000; stroke-linecap:round; stroke-linejoin:round; stroke-width:4; stroke-opacity:1; fill:none\" points=\"2142.06,1376.95 2142.06,1384.24 2189.18,1384.24 2189.18,1376.95 2142.06,1376.95 \"/>\n<path clip-path=\"url(#clip662)\" d=\"M2189.18 1382.42 L2189.18 1384.24 L2236.29 1384.24 L2236.29 1382.42 L2189.18 1382.42 L2189.18 1382.42  Z\" fill=\"#009af9\" fill-rule=\"evenodd\" fill-opacity=\"1\"/>\n<polyline clip-path=\"url(#clip662)\" style=\"stroke:#000000; stroke-linecap:round; stroke-linejoin:round; stroke-width:4; stroke-opacity:1; fill:none\" points=\"2189.18,1382.42 2189.18,1384.24 2236.29,1384.24 2236.29,1382.42 2189.18,1382.42 \"/>\n<circle clip-path=\"url(#clip662)\" style=\"fill:#009af9; stroke:none; fill-opacity:0\" cx=\"375.304\" cy=\"1378.77\" r=\"2\"/>\n<circle clip-path=\"url(#clip662)\" style=\"fill:#009af9; stroke:none; fill-opacity:0\" cx=\"422.418\" cy=\"1371.48\" r=\"2\"/>\n<circle clip-path=\"url(#clip662)\" style=\"fill:#009af9; stroke:none; fill-opacity:0\" cx=\"469.532\" cy=\"1364.18\" r=\"2\"/>\n<circle clip-path=\"url(#clip662)\" style=\"fill:#009af9; stroke:none; fill-opacity:0\" cx=\"516.645\" cy=\"1366.01\" r=\"2\"/>\n<circle clip-path=\"url(#clip662)\" style=\"fill:#009af9; stroke:none; fill-opacity:0\" cx=\"563.759\" cy=\"1338.66\" r=\"2\"/>\n<circle clip-path=\"url(#clip662)\" style=\"fill:#009af9; stroke:none; fill-opacity:0\" cx=\"610.872\" cy=\"1309.49\" r=\"2\"/>\n<circle clip-path=\"url(#clip662)\" style=\"fill:#009af9; stroke:none; fill-opacity:0\" cx=\"657.986\" cy=\"1285.79\" r=\"2\"/>\n<circle clip-path=\"url(#clip662)\" style=\"fill:#009af9; stroke:none; fill-opacity:0\" cx=\"705.1\" cy=\"1212.87\" r=\"2\"/>\n<circle clip-path=\"url(#clip662)\" style=\"fill:#009af9; stroke:none; fill-opacity:0\" cx=\"752.213\" cy=\"1163.64\" r=\"2\"/>\n<circle clip-path=\"url(#clip662)\" style=\"fill:#009af9; stroke:none; fill-opacity:0\" cx=\"799.327\" cy=\"1098.01\" r=\"2\"/>\n<circle clip-path=\"url(#clip662)\" style=\"fill:#009af9; stroke:none; fill-opacity:0\" cx=\"846.44\" cy=\"992.27\" r=\"2\"/>\n<circle clip-path=\"url(#clip662)\" style=\"fill:#009af9; stroke:none; fill-opacity:0\" cx=\"893.554\" cy=\"870.122\" r=\"2\"/>\n<circle clip-path=\"url(#clip662)\" style=\"fill:#009af9; stroke:none; fill-opacity:0\" cx=\"940.667\" cy=\"749.797\" r=\"2\"/>\n<circle clip-path=\"url(#clip662)\" style=\"fill:#009af9; stroke:none; fill-opacity:0\" cx=\"987.781\" cy=\"598.479\" r=\"2\"/>\n<circle clip-path=\"url(#clip662)\" style=\"fill:#009af9; stroke:none; fill-opacity:0\" cx=\"1034.89\" cy=\"461.746\" r=\"2\"/>\n<circle clip-path=\"url(#clip662)\" style=\"fill:#009af9; stroke:none; fill-opacity:0\" cx=\"1082.01\" cy=\"279.435\" r=\"2\"/>\n<circle clip-path=\"url(#clip662)\" style=\"fill:#009af9; stroke:none; fill-opacity:0\" cx=\"1129.12\" cy=\"257.558\" r=\"2\"/>\n<circle clip-path=\"url(#clip662)\" style=\"fill:#009af9; stroke:none; fill-opacity:0\" cx=\"1176.24\" cy=\"146.348\" r=\"2\"/>\n<circle clip-path=\"url(#clip662)\" style=\"fill:#009af9; stroke:none; fill-opacity:0\" cx=\"1223.35\" cy=\"166.402\" r=\"2\"/>\n<circle clip-path=\"url(#clip662)\" style=\"fill:#009af9; stroke:none; fill-opacity:0\" cx=\"1270.46\" cy=\"159.11\" r=\"2\"/>\n<circle clip-path=\"url(#clip662)\" style=\"fill:#009af9; stroke:none; fill-opacity:0\" cx=\"1317.58\" cy=\"86.1857\" r=\"2\"/>\n<circle clip-path=\"url(#clip662)\" style=\"fill:#009af9; stroke:none; fill-opacity:0\" cx=\"1364.69\" cy=\"193.749\" r=\"2\"/>\n<circle clip-path=\"url(#clip662)\" style=\"fill:#009af9; stroke:none; fill-opacity:0\" cx=\"1411.8\" cy=\"244.796\" r=\"2\"/>\n<circle clip-path=\"url(#clip662)\" style=\"fill:#009af9; stroke:none; fill-opacity:0\" cx=\"1458.92\" cy=\"412.522\" r=\"2\"/>\n<circle clip-path=\"url(#clip662)\" style=\"fill:#009af9; stroke:none; fill-opacity:0\" cx=\"1506.03\" cy=\"547.432\" r=\"2\"/>\n<circle clip-path=\"url(#clip662)\" style=\"fill:#009af9; stroke:none; fill-opacity:0\" cx=\"1553.14\" cy=\"716.981\" r=\"2\"/>\n<circle clip-path=\"url(#clip662)\" style=\"fill:#009af9; stroke:none; fill-opacity:0\" cx=\"1600.26\" cy=\"830.014\" r=\"2\"/>\n<circle clip-path=\"url(#clip662)\" style=\"fill:#009af9; stroke:none; fill-opacity:0\" cx=\"1647.37\" cy=\"977.685\" r=\"2\"/>\n<circle clip-path=\"url(#clip662)\" style=\"fill:#009af9; stroke:none; fill-opacity:0\" cx=\"1694.48\" cy=\"1048.79\" r=\"2\"/>\n<circle clip-path=\"url(#clip662)\" style=\"fill:#009af9; stroke:none; fill-opacity:0\" cx=\"1741.6\" cy=\"1149.06\" r=\"2\"/>\n<circle clip-path=\"url(#clip662)\" style=\"fill:#009af9; stroke:none; fill-opacity:0\" cx=\"1788.71\" cy=\"1231.1\" r=\"2\"/>\n<circle clip-path=\"url(#clip662)\" style=\"fill:#009af9; stroke:none; fill-opacity:0\" cx=\"1835.83\" cy=\"1273.03\" r=\"2\"/>\n<circle clip-path=\"url(#clip662)\" style=\"fill:#009af9; stroke:none; fill-opacity:0\" cx=\"1882.94\" cy=\"1304.02\" r=\"2\"/>\n<circle clip-path=\"url(#clip662)\" style=\"fill:#009af9; stroke:none; fill-opacity:0\" cx=\"1930.05\" cy=\"1329.55\" r=\"2\"/>\n<circle clip-path=\"url(#clip662)\" style=\"fill:#009af9; stroke:none; fill-opacity:0\" cx=\"1977.17\" cy=\"1347.78\" r=\"2\"/>\n<circle clip-path=\"url(#clip662)\" style=\"fill:#009af9; stroke:none; fill-opacity:0\" cx=\"2024.28\" cy=\"1367.83\" r=\"2\"/>\n<circle clip-path=\"url(#clip662)\" style=\"fill:#009af9; stroke:none; fill-opacity:0\" cx=\"2071.39\" cy=\"1367.83\" r=\"2\"/>\n<circle clip-path=\"url(#clip662)\" style=\"fill:#009af9; stroke:none; fill-opacity:0\" cx=\"2118.51\" cy=\"1380.59\" r=\"2\"/>\n<circle clip-path=\"url(#clip662)\" style=\"fill:#009af9; stroke:none; fill-opacity:0\" cx=\"2165.62\" cy=\"1376.95\" r=\"2\"/>\n<circle clip-path=\"url(#clip662)\" style=\"fill:#009af9; stroke:none; fill-opacity:0\" cx=\"2212.73\" cy=\"1382.42\" r=\"2\"/>\n<polyline clip-path=\"url(#clip662)\" style=\"stroke:#ff0000; stroke-linecap:round; stroke-linejoin:round; stroke-width:8; stroke-opacity:1; fill:none\" stroke-dasharray=\"32, 20\" points=\"1254.08,2799.12 1254.08,-1328.69 \"/>\n</svg>\n"
     },
     "execution_count": 17,
     "metadata": {},
     "output_type": "execute_result"
    }
   ],
   "source": [
    "histogram(y[:, T+1], xlabel = \"Value\", ylabel = \"Count\", legend=false) # # make basic histogram\n",
    "meanval = mean(y[:, T+1]) # get mean\n",
    "vline!([meanval], color=:red, linestyle=:dash, lw=2)"
   ]
  },
  {
   "cell_type": "markdown",
   "metadata": {},
   "source": [
    "### Exercise 2 (25 points)\n",
    "\n",
    "This problem involves implementing Newton's method for computing square roots; it was shamelessly copied from MIT's [Introduction to Computational Thinking](https://computationalthinking.mit.edu/Spring21/hw0/). You will use a [`while` loop](https://docs.julialang.org/en/v1/manual/control-flow/#man-loops) instead of the `for` loop above.\n",
    "\n",
    "Implement the following algorithm in a function `newton_sqrt`:\n",
    "\n",
    "Given $x > 0$:\n",
    "1. Take a guess $a$.\n",
    "2. Divide $x$ by $a$.\n",
    "3. Update $a$ as the average of $x/a$ and $a$.\n",
    "4. Repeat until $x/a$ is within a tolerance of $\\varepsilon$ from $a$.\n",
    "5. Return $a \\approx \\sqrt{x}$.\n",
    "\n",
    "Use your `newton_sqrt` function to compute $\\sqrt{2}$ to within a tolerance of $\\varepsilon = 0.01$"
   ]
  },
  {
   "cell_type": "code",
   "execution_count": 18,
   "metadata": {},
   "outputs": [
    {
     "data": {
      "text/plain": [
       "newton_sqrt (generic function with 1 method)"
      ]
     },
     "execution_count": 18,
     "metadata": {},
     "output_type": "execute_result"
    }
   ],
   "source": [
    "function newton_sqrt(x, ϵ)\n",
    "    a = rand()\n",
    "    div = x/a\n",
    "    a = (div+a)/2\n",
    "    while abs(div-a) > ϵ\n",
    "        div = x/a\n",
    "        a = (div+a)/2\n",
    "    end\n",
    "    return a\n",
    "end\n"
   ]
  },
  {
   "cell_type": "code",
   "execution_count": 19,
   "metadata": {},
   "outputs": [
    {
     "data": {
      "text/plain": [
       "1.4142135649047014"
      ]
     },
     "execution_count": 19,
     "metadata": {},
     "output_type": "execute_result"
    }
   ],
   "source": [
    "newton_sqrt(2, 0.01)"
   ]
  },
  {
   "cell_type": "code",
   "execution_count": 20,
   "metadata": {},
   "outputs": [
    {
     "data": {
      "text/plain": [
       "1.4142135623730951"
      ]
     },
     "execution_count": 20,
     "metadata": {},
     "output_type": "execute_result"
    }
   ],
   "source": [
    "sqrt(2)"
   ]
  },
  {
   "attachments": {},
   "cell_type": "markdown",
   "metadata": {},
   "source": [
    "### Exercise 3 (15 points)\n",
    "\n",
    "Sample 100 variables from a normal distribution with mean 1 and standard deviation 5, e.g. $x_i \\sim N(1, 5)$ (use similar syntax from the sample code above). Write a function `mean_loop` to compute the mean of this vector $\\bar{x}$ using a `for` loop, and use broadcasting to subtract $\\bar{x}$ from each element of your vector of sampled variables."
   ]
  },
  {
   "cell_type": "code",
   "execution_count": 21,
   "metadata": {},
   "outputs": [
    {
     "data": {
      "text/plain": [
       "mean_loop (generic function with 1 method)"
      ]
     },
     "execution_count": 21,
     "metadata": {},
     "output_type": "execute_result"
    }
   ],
   "source": [
    "\n",
    "function mean_loop(vector)\n",
    "    # finnd number of values in vector\n",
    "    vec_size = length(vector) \n",
    "    #Add values of vector\n",
    "    sum_vec = 0\n",
    "    for i in vector\n",
    "        sum_vec += i \n",
    "    end\n",
    "    #Find average\n",
    "    vec_mean = sum_vec / vec_size\n",
    "    #Subtract average from all values in vector\n",
    "    new_vec = vector .- vec_mean\n",
    "    return new_vec\n",
    "end"
   ]
  },
  {
   "cell_type": "code",
   "execution_count": 22,
   "metadata": {},
   "outputs": [
    {
     "data": {
      "text/plain": [
       "100-element Vector{Float64}:\n",
       " -1.6556386563416283\n",
       "  4.762305488409085\n",
       " -3.7813083548858244\n",
       " -8.97348923252468\n",
       "  3.044809772391397\n",
       " -7.409399835077556\n",
       "  0.731318900907363\n",
       " -1.441526371569775\n",
       " -8.428156848188616\n",
       "  6.909532720226416\n",
       " -8.930931335845482\n",
       "  1.8321688189985\n",
       " -7.835707403881626\n",
       "  ⋮\n",
       " -4.57048345398322\n",
       "  6.143164709764533\n",
       " -2.3815908408089794\n",
       " -8.877611728569303\n",
       "  0.8590004772847738\n",
       "  7.802613244430462\n",
       " -3.000066896198925\n",
       "  3.2489756372474123\n",
       " -8.346567288759482\n",
       " -0.36697161056526084\n",
       " -3.4049890191680254\n",
       "  0.6746893919351199"
      ]
     },
     "execution_count": 22,
     "metadata": {},
     "output_type": "execute_result"
    }
   ],
   "source": [
    "using Distributions\n",
    "#Create 100 variable sample\n",
    "dist = Normal(1,5)\n",
    "sample = rand(dist, 100)\n",
    "\n",
    "#Apply function to sample\n",
    "new_sample = mean_loop(sample)"
   ]
  },
  {
   "cell_type": "markdown",
   "metadata": {},
   "source": [
    "### References\n",
    "\n",
    "Give credit to any consulted references here, whether they were your classmates, online resources, or anything else."
   ]
  }
 ],
 "metadata": {
  "kernelspec": {
   "display_name": "Julia 1.7.3",
   "language": "julia",
   "name": "julia-1.7"
  },
  "language_info": {
   "file_extension": ".jl",
   "mimetype": "application/julia",
   "name": "julia",
   "version": "1.7.3"
  }
 },
 "nbformat": 4,
 "nbformat_minor": 3
}
